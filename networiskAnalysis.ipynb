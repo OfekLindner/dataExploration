{
 "cells": [
  {
   "cell_type": "code",
   "execution_count": null,
   "id": "8f30b1cf",
   "metadata": {},
   "outputs": [],
   "source": [
    "!pip install nest_asyncio\n",
    "import nest_asyncio\n",
    "nest_asyncio.apply()\n",
    "!pip install cloudpathlib[s3]\n",
    "from cloudpathlib import CloudPath\n",
    "import pandas as pd\n",
    "import matplotlib.pyplot as plt\n",
    "import os\n",
    "import glob\n",
    "import numpy as np\n",
    "from time import strptime\n",
    "import datetime\n",
    "!pip install mac-vendor-lookup\n",
    "from mac_vendor_lookup import MacLookup"
   ]
  },
  {
   "cell_type": "code",
   "execution_count": null,
   "id": "a45158f4",
   "metadata": {},
   "outputs": [],
   "source": [
    "# !pip install pygle\n",
    "# from pygle import network as wigleSearch"
   ]
  },
  {
   "cell_type": "code",
   "execution_count": 246,
   "id": "444a2121",
   "metadata": {},
   "outputs": [],
   "source": [
    "# Set Parameters\n",
    "bucketFolderName = \"ReportData\"\n",
    "localFolderName = \"ReportData\"\n",
    "bucketName = \"storagebucketname130605-dev/private/us-east-1:decaf162-e212-4ee2-96e4-adea45f7d0f6/\""
   ]
  },
  {
   "cell_type": "code",
   "execution_count": null,
   "id": "64663148",
   "metadata": {},
   "outputs": [],
   "source": [
    "# Download data from bucket to local folder\n",
    "cp = CloudPath(\"s3://\" + bucketName + bucketFolderName + \"/\")\n",
    "cp.download_to(localFolderName)"
   ]
  },
  {
   "cell_type": "code",
   "execution_count": 247,
   "id": "0cb20f11",
   "metadata": {},
   "outputs": [],
   "source": [
    "# Create DataFrame from all data in the folder\n",
    "path = os.getcwd() + \"/\" + localFolderName\n",
    "csv_files = glob.glob(os.path.join(path, \"*.csv\"))\n",
    "df = pd.read_csv(csv_files[0])\n",
    "for f in csv_files[1:]:\n",
    "    try:\n",
    "        df1 = pd.read_csv(f)\n",
    "        df = pd.concat([df, df1])\n",
    "    except:\n",
    "        print(\"Corrupted  file: \" + f)"
   ]
  },
  {
   "cell_type": "code",
   "execution_count": 248,
   "id": "0987af14",
   "metadata": {},
   "outputs": [
    {
     "data": {
      "text/html": [
       "<div>\n",
       "<style scoped>\n",
       "    .dataframe tbody tr th:only-of-type {\n",
       "        vertical-align: middle;\n",
       "    }\n",
       "\n",
       "    .dataframe tbody tr th {\n",
       "        vertical-align: top;\n",
       "    }\n",
       "\n",
       "    .dataframe thead th {\n",
       "        text-align: right;\n",
       "    }\n",
       "</style>\n",
       "<table border=\"1\" class=\"dataframe\">\n",
       "  <thead>\n",
       "    <tr style=\"text-align: right;\">\n",
       "      <th></th>\n",
       "      <th>SSID</th>\n",
       "      <th>Capabilities</th>\n",
       "      <th>BSSID</th>\n",
       "      <th>Level</th>\n",
       "      <th>Timestamp</th>\n",
       "      <th>Venue Name</th>\n",
       "      <th>ScanTime</th>\n",
       "    </tr>\n",
       "  </thead>\n",
       "  <tbody>\n",
       "    <tr>\n",
       "      <th>0</th>\n",
       "      <td>NaN</td>\n",
       "      <td>[WPA2-PSK-CCMP][RSN-PSK-CCMP][ESS]</td>\n",
       "      <td>14:ae:db:b1:7b:c5</td>\n",
       "      <td>-62</td>\n",
       "      <td>40 days</td>\n",
       "      <td>NaN</td>\n",
       "      <td>Mon Mar 28 09:52:40 GMT+03:00 2022</td>\n",
       "    </tr>\n",
       "    <tr>\n",
       "      <th>1</th>\n",
       "      <td>TechPublic</td>\n",
       "      <td>[ESS]</td>\n",
       "      <td>cc:d0:83:98:a6:40</td>\n",
       "      <td>-63</td>\n",
       "      <td>40 days</td>\n",
       "      <td>NaN</td>\n",
       "      <td>Mon Mar 28 09:52:40 GMT+03:00 2022</td>\n",
       "    </tr>\n",
       "    <tr>\n",
       "      <th>2</th>\n",
       "      <td>eduroam</td>\n",
       "      <td>[WPA2-EAP+FT/EAP-CCMP][RSN-EAP+FT/EAP-CCMP][ESS]</td>\n",
       "      <td>cc:d0:83:98:a6:42</td>\n",
       "      <td>-64</td>\n",
       "      <td>40 days</td>\n",
       "      <td>NaN</td>\n",
       "      <td>Mon Mar 28 09:52:40 GMT+03:00 2022</td>\n",
       "    </tr>\n",
       "    <tr>\n",
       "      <th>3</th>\n",
       "      <td>TechSec</td>\n",
       "      <td>[WPA2-EAP+FT/EAP-CCMP][RSN-EAP+FT/EAP-CCMP][ESS]</td>\n",
       "      <td>cc:d0:83:98:a6:41</td>\n",
       "      <td>-64</td>\n",
       "      <td>40 days</td>\n",
       "      <td>NaN</td>\n",
       "      <td>Mon Mar 28 09:52:40 GMT+03:00 2022</td>\n",
       "    </tr>\n",
       "    <tr>\n",
       "      <th>4</th>\n",
       "      <td>ה-iPhone של אורן</td>\n",
       "      <td>[WPA2-PSK-CCMP][RSN-PSK-CCMP][ESS]</td>\n",
       "      <td>26:b7:5e:30:7f:be</td>\n",
       "      <td>-66</td>\n",
       "      <td>40 days</td>\n",
       "      <td>NaN</td>\n",
       "      <td>Mon Mar 28 09:52:40 GMT+03:00 2022</td>\n",
       "    </tr>\n",
       "  </tbody>\n",
       "</table>\n",
       "</div>"
      ],
      "text/plain": [
       "               SSID                                      Capabilities  \\\n",
       "0               NaN                [WPA2-PSK-CCMP][RSN-PSK-CCMP][ESS]   \n",
       "1        TechPublic                                             [ESS]   \n",
       "2           eduroam  [WPA2-EAP+FT/EAP-CCMP][RSN-EAP+FT/EAP-CCMP][ESS]   \n",
       "3           TechSec  [WPA2-EAP+FT/EAP-CCMP][RSN-EAP+FT/EAP-CCMP][ESS]   \n",
       "4  ה-iPhone של אורן                [WPA2-PSK-CCMP][RSN-PSK-CCMP][ESS]   \n",
       "\n",
       "               BSSID  Level Timestamp  Venue Name  \\\n",
       "0  14:ae:db:b1:7b:c5    -62   40 days         NaN   \n",
       "1  cc:d0:83:98:a6:40    -63   40 days         NaN   \n",
       "2  cc:d0:83:98:a6:42    -64   40 days         NaN   \n",
       "3  cc:d0:83:98:a6:41    -64   40 days         NaN   \n",
       "4  26:b7:5e:30:7f:be    -66   40 days         NaN   \n",
       "\n",
       "                             ScanTime  \n",
       "0  Mon Mar 28 09:52:40 GMT+03:00 2022  \n",
       "1  Mon Mar 28 09:52:40 GMT+03:00 2022  \n",
       "2  Mon Mar 28 09:52:40 GMT+03:00 2022  \n",
       "3  Mon Mar 28 09:52:40 GMT+03:00 2022  \n",
       "4  Mon Mar 28 09:52:40 GMT+03:00 2022  "
      ]
     },
     "execution_count": 248,
     "metadata": {},
     "output_type": "execute_result"
    }
   ],
   "source": [
    "df.head()"
   ]
  },
  {
   "cell_type": "code",
   "execution_count": 249,
   "id": "551f78ef",
   "metadata": {},
   "outputs": [],
   "source": [
    "# df.drop(['Capabilities.1', 'BSSID.1', 'Level.1', 'Timestamp.1', 'Venue Name.1', 'ScanTimeSSID'], axis=1, inplace=True)\n",
    "# df.head()"
   ]
  },
  {
   "cell_type": "code",
   "execution_count": 250,
   "id": "516af457",
   "metadata": {},
   "outputs": [
    {
     "data": {
      "text/plain": [
       "(2540, 7)"
      ]
     },
     "execution_count": 250,
     "metadata": {},
     "output_type": "execute_result"
    }
   ],
   "source": [
    "df.shape"
   ]
  },
  {
   "cell_type": "code",
   "execution_count": 251,
   "id": "4191a39d",
   "metadata": {},
   "outputs": [],
   "source": [
    "# Drop uninteresting columns\n",
    "df.drop(['Level', 'Timestamp', 'Venue Name'], axis=1, inplace=True)\n",
    "# Drop uninteresting rows\n",
    "df.drop(df[(df['Capabilities'] == '[IBSS]')].index, inplace=True)\n",
    "df.drop_duplicates(subset=[\"BSSID\", \"ScanTime\"], inplace=True)"
   ]
  },
  {
   "cell_type": "code",
   "execution_count": 252,
   "id": "2479b5ce",
   "metadata": {},
   "outputs": [
    {
     "data": {
      "text/plain": [
       "(2369, 4)"
      ]
     },
     "execution_count": 252,
     "metadata": {},
     "output_type": "execute_result"
    }
   ],
   "source": [
    "df.shape"
   ]
  },
  {
   "cell_type": "code",
   "execution_count": 253,
   "id": "6173b317",
   "metadata": {},
   "outputs": [],
   "source": [
    "def openNetwork(r):\n",
    "    return r['Capabilities'].count('[') <= 1\n",
    "\n",
    "def WPA2only(r):\n",
    "    return 'WPA2' in r['Capabilities'] and 'WPA-' not in r['Capabilities']\n",
    "\n",
    "def WPA(r):\n",
    "    if 'WPA2' in r['Capabilities'] and 'WPA-' not in r['Capabilities']:\n",
    "        return False\n",
    "    elif 'WPA' in r['Capabilities']:\n",
    "        return True\n",
    "    return False\n",
    "\n",
    "def securityLevel(r):\n",
    "    if r['Open']:\n",
    "        return 0\n",
    "    # Not Open\n",
    "    if r['WPA']:\n",
    "        return 1\n",
    "    # Not Open & Not WPA\n",
    "    if r['WPA2 Only']:\n",
    "        return 3\n",
    "    # Not Open & Not WPA & Not WPA2\n",
    "    return 2\n",
    "\n",
    "def securityAmount(r):\n",
    "    return r['Capabilities'].count('[') - 1"
   ]
  },
  {
   "cell_type": "code",
   "execution_count": 254,
   "id": "c240c2a2",
   "metadata": {},
   "outputs": [],
   "source": [
    "# Analysis of the Capabilities column\n",
    "df['Open'] = df.apply(lambda row: openNetwork(row), axis=1)\n",
    "\n",
    "df['WPA2 Only'] = df.apply(lambda row: WPA2only(row), axis=1)\n",
    "\n",
    "df['WPA'] = df.apply(lambda row: WPA(row), axis=1)\n",
    "\n",
    "df['Security Level'] = df.apply(lambda row: securityLevel(row), axis=1)\n",
    "\n",
    "df['Security Amount'] = df.apply(lambda row: securityAmount(row), axis=1)"
   ]
  },
  {
   "cell_type": "code",
   "execution_count": 255,
   "id": "e9799546",
   "metadata": {},
   "outputs": [
    {
     "data": {
      "text/html": [
       "<div>\n",
       "<style scoped>\n",
       "    .dataframe tbody tr th:only-of-type {\n",
       "        vertical-align: middle;\n",
       "    }\n",
       "\n",
       "    .dataframe tbody tr th {\n",
       "        vertical-align: top;\n",
       "    }\n",
       "\n",
       "    .dataframe thead th {\n",
       "        text-align: right;\n",
       "    }\n",
       "</style>\n",
       "<table border=\"1\" class=\"dataframe\">\n",
       "  <thead>\n",
       "    <tr style=\"text-align: right;\">\n",
       "      <th></th>\n",
       "      <th>SSID</th>\n",
       "      <th>Capabilities</th>\n",
       "      <th>BSSID</th>\n",
       "      <th>ScanTime</th>\n",
       "      <th>Open</th>\n",
       "      <th>WPA2 Only</th>\n",
       "      <th>WPA</th>\n",
       "      <th>Security Level</th>\n",
       "      <th>Security Amount</th>\n",
       "    </tr>\n",
       "  </thead>\n",
       "  <tbody>\n",
       "    <tr>\n",
       "      <th>0</th>\n",
       "      <td>NaN</td>\n",
       "      <td>[WPA2-PSK-CCMP][RSN-PSK-CCMP][ESS]</td>\n",
       "      <td>14:ae:db:b1:7b:c5</td>\n",
       "      <td>Mon Mar 28 09:52:40 GMT+03:00 2022</td>\n",
       "      <td>False</td>\n",
       "      <td>True</td>\n",
       "      <td>False</td>\n",
       "      <td>3</td>\n",
       "      <td>2</td>\n",
       "    </tr>\n",
       "    <tr>\n",
       "      <th>1</th>\n",
       "      <td>TechPublic</td>\n",
       "      <td>[ESS]</td>\n",
       "      <td>cc:d0:83:98:a6:40</td>\n",
       "      <td>Mon Mar 28 09:52:40 GMT+03:00 2022</td>\n",
       "      <td>True</td>\n",
       "      <td>False</td>\n",
       "      <td>False</td>\n",
       "      <td>0</td>\n",
       "      <td>0</td>\n",
       "    </tr>\n",
       "  </tbody>\n",
       "</table>\n",
       "</div>"
      ],
      "text/plain": [
       "         SSID                        Capabilities              BSSID  \\\n",
       "0         NaN  [WPA2-PSK-CCMP][RSN-PSK-CCMP][ESS]  14:ae:db:b1:7b:c5   \n",
       "1  TechPublic                               [ESS]  cc:d0:83:98:a6:40   \n",
       "\n",
       "                             ScanTime   Open  WPA2 Only    WPA  \\\n",
       "0  Mon Mar 28 09:52:40 GMT+03:00 2022  False       True  False   \n",
       "1  Mon Mar 28 09:52:40 GMT+03:00 2022   True      False  False   \n",
       "\n",
       "   Security Level  Security Amount  \n",
       "0               3                2  \n",
       "1               0                0  "
      ]
     },
     "execution_count": 255,
     "metadata": {},
     "output_type": "execute_result"
    }
   ],
   "source": [
    "df.head(2)"
   ]
  },
  {
   "cell_type": "code",
   "execution_count": 256,
   "id": "52094f61",
   "metadata": {},
   "outputs": [
    {
     "data": {
      "text/plain": [
       "3    1668\n",
       "0     378\n",
       "2     248\n",
       "1      75\n",
       "Name: Security Level, dtype: int64"
      ]
     },
     "execution_count": 256,
     "metadata": {},
     "output_type": "execute_result"
    }
   ],
   "source": [
    "df['Security Level'].value_counts()"
   ]
  },
  {
   "cell_type": "code",
   "execution_count": 257,
   "id": "f200c62b",
   "metadata": {},
   "outputs": [
    {
     "data": {
      "text/plain": [
       "[RSN-OWE_TRANSITION-CCMP][ESS]                  170\n",
       "[RSN-OWE-CCMP][RSN-OWE_TRANSITION-CCMP][ESS]     78\n",
       "Name: Capabilities, dtype: int64"
      ]
     },
     "execution_count": 257,
     "metadata": {},
     "output_type": "execute_result"
    }
   ],
   "source": [
    "df[df[\"Security Level\"] == 2][\"Capabilities\"].value_counts()"
   ]
  },
  {
   "cell_type": "code",
   "execution_count": 258,
   "id": "e305cbc6",
   "metadata": {},
   "outputs": [
    {
     "data": {
      "image/png": "[encoded data removed]",
      "text/plain": [
       "<Figure size 432x288 with 1 Axes>"
      ]
     },
     "metadata": {},
     "output_type": "display_data"
    }
   ],
   "source": [
    "y = df['Security Level'].value_counts().sort_index()\n",
    "labels = [\"No security\",\"WPA\",\"WPA2 only\",\"Secured without any WPA\"]\n",
    "plt.pie(y, labels= labels, labeldistance= 1.3)\n",
    "# plt.legend(labels= labels, bbox_to_anchor= (1, 1), loc= 'upper left')\n",
    "plt.title(\"Distribution of nearby devices according to their level of security\", y=1.1)\n",
    "plt.tight_layout()\n",
    "plt.show() "
   ]
  },
  {
   "cell_type": "code",
   "execution_count": 259,
   "id": "33fb1fb3",
   "metadata": {},
   "outputs": [
    {
     "data": {
      "text/plain": [
       "2    1719\n",
       "0     378\n",
       "1     170\n",
       "3      88\n",
       "4      14\n",
       "Name: Security Amount, dtype: int64"
      ]
     },
     "execution_count": 259,
     "metadata": {},
     "output_type": "execute_result"
    }
   ],
   "source": [
    "df['Security Amount'].value_counts()"
   ]
  },
  {
   "cell_type": "code",
   "execution_count": 260,
   "id": "c9b9a84b",
   "metadata": {},
   "outputs": [
    {
     "data": {
      "image/png": "[encoded data removed]",
      "text/plain": [
       "<Figure size 432x288 with 1 Axes>"
      ]
     },
     "metadata": {},
     "output_type": "display_data"
    }
   ],
   "source": [
    "y = df['Security Amount'].value_counts().sort_index()\n",
    "labels = y.index.tolist()\n",
    "plt.pie(y,labels= labels, labeldistance= 1.2)\n",
    "plt.title(\"Distribution of nearby devices according to amount of security protocols\", y=1.1)\n",
    "plt.tight_layout()\n",
    "plt.show() "
   ]
  },
  {
   "cell_type": "code",
   "execution_count": 261,
   "id": "a3da7d01",
   "metadata": {},
   "outputs": [
    {
     "data": {
      "text/plain": [
       "172"
      ]
     },
     "execution_count": 261,
     "metadata": {},
     "output_type": "execute_result"
    }
   ],
   "source": [
    "scanCount = df[\"ScanTime\"].nunique()\n",
    "scanCount"
   ]
  },
  {
   "cell_type": "code",
   "execution_count": 262,
   "id": "1a1597d8",
   "metadata": {},
   "outputs": [
    {
     "data": {
      "text/plain": [
       "29"
      ]
     },
     "execution_count": 262,
     "metadata": {},
     "output_type": "execute_result"
    }
   ],
   "source": [
    "df[\"SSID\"].nunique()"
   ]
  },
  {
   "cell_type": "code",
   "execution_count": 263,
   "id": "ea4fb730",
   "metadata": {},
   "outputs": [
    {
     "data": {
      "text/plain": [
       "TechSec                         355\n",
       "eduroam                         328\n",
       "TechPublic                      327\n",
       "CS_GUEST                        221\n",
       "CS_WIFI                         218\n",
       "lib-test                        204\n",
       "students_WIFI                   200\n",
       "CS_conference                   184\n",
       "NaN                             134\n",
       "Aseel                            31\n",
       "Bonie                            29\n",
       "HOTBOX 4-62D8                    19\n",
       "DIRECT-99-HP PageWide P55250     18\n",
       "ה-iPhone של אורן                 18\n",
       "CRL                              14\n",
       "459-02                           14\n",
       "sonos_gar                        13\n",
       "WIFI_SSDL                        11\n",
       "DIRECT-gBDESKTOP-RQ05JV4ms7F      6\n",
       " ל                                5\n",
       "BenarriMay’s phone                5\n",
       "RotemPhone                        5\n",
       "CIS                               2\n",
       "COFFEES                           2\n",
       "AndroidAP48FC                     1\n",
       "CRL_ROBOTS                        1\n",
       "nahum                             1\n",
       "POCO F3                           1\n",
       "Redmi Note 9S                     1\n",
       "OPPO A52                          1\n",
       "Name: SSID, dtype: int64"
      ]
     },
     "execution_count": 263,
     "metadata": {},
     "output_type": "execute_result"
    }
   ],
   "source": [
    "df[\"SSID\"].value_counts(dropna=False)"
   ]
  },
  {
   "cell_type": "code",
   "execution_count": 264,
   "id": "a45fd54e",
   "metadata": {},
   "outputs": [
    {
     "data": {
      "text/html": [
       "<div>\n",
       "<style scoped>\n",
       "    .dataframe tbody tr th:only-of-type {\n",
       "        vertical-align: middle;\n",
       "    }\n",
       "\n",
       "    .dataframe tbody tr th {\n",
       "        vertical-align: top;\n",
       "    }\n",
       "\n",
       "    .dataframe thead th {\n",
       "        text-align: right;\n",
       "    }\n",
       "</style>\n",
       "<table border=\"1\" class=\"dataframe\">\n",
       "  <thead>\n",
       "    <tr style=\"text-align: right;\">\n",
       "      <th></th>\n",
       "      <th>BSSID</th>\n",
       "      <th>scanCount</th>\n",
       "    </tr>\n",
       "  </thead>\n",
       "  <tbody>\n",
       "    <tr>\n",
       "      <th>0</th>\n",
       "      <td>00:21:e1:cf:6e:00</td>\n",
       "      <td>2</td>\n",
       "    </tr>\n",
       "    <tr>\n",
       "      <th>1</th>\n",
       "      <td>00:21:e1:cf:6e:02</td>\n",
       "      <td>1</td>\n",
       "    </tr>\n",
       "    <tr>\n",
       "      <th>2</th>\n",
       "      <td>00:21:e1:cf:6e:04</td>\n",
       "      <td>2</td>\n",
       "    </tr>\n",
       "    <tr>\n",
       "      <th>3</th>\n",
       "      <td>02:b5:d0:2d:16:f9</td>\n",
       "      <td>31</td>\n",
       "    </tr>\n",
       "    <tr>\n",
       "      <th>4</th>\n",
       "      <td>0a:c5:e1:b9:48:fc</td>\n",
       "      <td>1</td>\n",
       "    </tr>\n",
       "    <tr>\n",
       "      <th>...</th>\n",
       "      <td>...</td>\n",
       "      <td>...</td>\n",
       "    </tr>\n",
       "    <tr>\n",
       "      <th>195</th>\n",
       "      <td>d0:15:a6:74:22:e0</td>\n",
       "      <td>1</td>\n",
       "    </tr>\n",
       "    <tr>\n",
       "      <th>196</th>\n",
       "      <td>d0:15:a6:74:22:e1</td>\n",
       "      <td>1</td>\n",
       "    </tr>\n",
       "    <tr>\n",
       "      <th>197</th>\n",
       "      <td>d0:15:a6:74:22:e2</td>\n",
       "      <td>1</td>\n",
       "    </tr>\n",
       "    <tr>\n",
       "      <th>198</th>\n",
       "      <td>d6:d2:52:d8:b5:ad</td>\n",
       "      <td>6</td>\n",
       "    </tr>\n",
       "    <tr>\n",
       "      <th>199</th>\n",
       "      <td>ee:c5:93:0e:0d:49</td>\n",
       "      <td>1</td>\n",
       "    </tr>\n",
       "  </tbody>\n",
       "</table>\n",
       "<p>200 rows × 2 columns</p>\n",
       "</div>"
      ],
      "text/plain": [
       "                 BSSID  scanCount\n",
       "0    00:21:e1:cf:6e:00          2\n",
       "1    00:21:e1:cf:6e:02          1\n",
       "2    00:21:e1:cf:6e:04          2\n",
       "3    02:b5:d0:2d:16:f9         31\n",
       "4    0a:c5:e1:b9:48:fc          1\n",
       "..                 ...        ...\n",
       "195  d0:15:a6:74:22:e0          1\n",
       "196  d0:15:a6:74:22:e1          1\n",
       "197  d0:15:a6:74:22:e2          1\n",
       "198  d6:d2:52:d8:b5:ad          6\n",
       "199  ee:c5:93:0e:0d:49          1\n",
       "\n",
       "[200 rows x 2 columns]"
      ]
     },
     "execution_count": 264,
     "metadata": {},
     "output_type": "execute_result"
    }
   ],
   "source": [
    "appearances = df.groupby([\"BSSID\"]).size().reset_index(name=\"scanCount\")\n",
    "appearances"
   ]
  },
  {
   "cell_type": "code",
   "execution_count": 265,
   "id": "543b07de",
   "metadata": {},
   "outputs": [
    {
     "data": {
      "text/html": [
       "<div>\n",
       "<style scoped>\n",
       "    .dataframe tbody tr th:only-of-type {\n",
       "        vertical-align: middle;\n",
       "    }\n",
       "\n",
       "    .dataframe tbody tr th {\n",
       "        vertical-align: top;\n",
       "    }\n",
       "\n",
       "    .dataframe thead th {\n",
       "        text-align: right;\n",
       "    }\n",
       "</style>\n",
       "<table border=\"1\" class=\"dataframe\">\n",
       "  <thead>\n",
       "    <tr style=\"text-align: right;\">\n",
       "      <th></th>\n",
       "      <th>SSID</th>\n",
       "      <th>scanCount</th>\n",
       "    </tr>\n",
       "  </thead>\n",
       "  <tbody>\n",
       "    <tr>\n",
       "      <th>0</th>\n",
       "      <td>ל</td>\n",
       "      <td>5</td>\n",
       "    </tr>\n",
       "    <tr>\n",
       "      <th>1</th>\n",
       "      <td>459-02</td>\n",
       "      <td>14</td>\n",
       "    </tr>\n",
       "  </tbody>\n",
       "</table>\n",
       "</div>"
      ],
      "text/plain": [
       "     SSID  scanCount\n",
       "0       ל          5\n",
       "1  459-02         14"
      ]
     },
     "execution_count": 265,
     "metadata": {},
     "output_type": "execute_result"
    }
   ],
   "source": [
    "appearances2 = df.groupby([\"SSID\"]).size().reset_index(name=\"scanCount\")\n",
    "appearances2.head(2)"
   ]
  },
  {
   "cell_type": "code",
   "execution_count": 266,
   "id": "cf6ef089",
   "metadata": {},
   "outputs": [
    {
     "name": "stdout",
     "output_type": "stream",
     "text": [
      "max scanCount = 80\n",
      "min scanCount = 1\n"
     ]
    }
   ],
   "source": [
    "max_scanCount = appearances[\"scanCount\"].max()\n",
    "min_scanCount = appearances[\"scanCount\"].min()\n",
    "print(\"max scanCount = {}\".format(max_scanCount))\n",
    "print(\"min scanCount = {}\".format(min_scanCount))\n",
    "# appearances[\"scanCount\"].value_counts().sort_index(ascending=True)"
   ]
  },
  {
   "cell_type": "code",
   "execution_count": 267,
   "id": "d98ce562",
   "metadata": {},
   "outputs": [
    {
     "name": "stdout",
     "output_type": "stream",
     "text": [
      "max scanCount = 355\n",
      "min scanCount = 1\n"
     ]
    }
   ],
   "source": [
    "max_scanCount2 = appearances2[\"scanCount\"].max()\n",
    "min_scanCount2 = appearances2[\"scanCount\"].min()\n",
    "print(\"max scanCount = {}\".format(max_scanCount2))\n",
    "print(\"min scanCount = {}\".format(min_scanCount2))\n",
    "# appearances[\"scanCount\"].value_counts().sort_index(ascending=True)"
   ]
  },
  {
   "cell_type": "code",
   "execution_count": 268,
   "id": "57e9ff5f",
   "metadata": {},
   "outputs": [],
   "source": [
    "def BSSIDpresenceDensity(r):\n",
    "    rScanCount = appearances[appearances.BSSID == r.BSSID].values[0][1] # values[0][1] == scanCount value\n",
    "    rScanCountScaled = (rScanCount - min_scanCount) / (max_scanCount - min_scanCount)\n",
    "    \n",
    "    if rScanCountScaled >= 0.8:\n",
    "        return 'persistent'\n",
    "    if rScanCountScaled >= 0.3:\n",
    "        return 'occasional'\n",
    "    return 'rare'\n",
    "\n",
    "def SSIDpresenceDensity(r):\n",
    "    rScanCountScaled = (r.scanCount - min_scanCount2) / (max_scanCount2 - min_scanCount2)\n",
    "    \n",
    "    if rScanCountScaled >= 0.8:\n",
    "        return 'persistent'\n",
    "    if rScanCountScaled >= 0.3:\n",
    "        return 'occasional'\n",
    "    return 'rare'"
   ]
  },
  {
   "cell_type": "code",
   "execution_count": 269,
   "id": "10a88a47",
   "metadata": {},
   "outputs": [],
   "source": [
    "df['BSSID Presence Density'] = df.apply(lambda row: BSSIDpresenceDensity(row), axis=1)\n",
    "appearances2['SSID Presence Density'] = appearances2.apply(lambda row: SSIDpresenceDensity(row), axis=1)"
   ]
  },
  {
   "cell_type": "code",
   "execution_count": 270,
   "id": "53054d37",
   "metadata": {},
   "outputs": [
    {
     "data": {
      "text/html": [
       "<div>\n",
       "<style scoped>\n",
       "    .dataframe tbody tr th:only-of-type {\n",
       "        vertical-align: middle;\n",
       "    }\n",
       "\n",
       "    .dataframe tbody tr th {\n",
       "        vertical-align: top;\n",
       "    }\n",
       "\n",
       "    .dataframe thead th {\n",
       "        text-align: right;\n",
       "    }\n",
       "</style>\n",
       "<table border=\"1\" class=\"dataframe\">\n",
       "  <thead>\n",
       "    <tr style=\"text-align: right;\">\n",
       "      <th></th>\n",
       "      <th>SSID</th>\n",
       "      <th>Capabilities</th>\n",
       "      <th>BSSID</th>\n",
       "      <th>ScanTime</th>\n",
       "      <th>Open</th>\n",
       "      <th>WPA2 Only</th>\n",
       "      <th>WPA</th>\n",
       "      <th>Security Level</th>\n",
       "      <th>Security Amount</th>\n",
       "      <th>BSSID Presence Density</th>\n",
       "    </tr>\n",
       "  </thead>\n",
       "  <tbody>\n",
       "    <tr>\n",
       "      <th>0</th>\n",
       "      <td>NaN</td>\n",
       "      <td>[WPA2-PSK-CCMP][RSN-PSK-CCMP][ESS]</td>\n",
       "      <td>14:ae:db:b1:7b:c5</td>\n",
       "      <td>Mon Mar 28 09:52:40 GMT+03:00 2022</td>\n",
       "      <td>False</td>\n",
       "      <td>True</td>\n",
       "      <td>False</td>\n",
       "      <td>3</td>\n",
       "      <td>2</td>\n",
       "      <td>occasional</td>\n",
       "    </tr>\n",
       "    <tr>\n",
       "      <th>1</th>\n",
       "      <td>TechPublic</td>\n",
       "      <td>[ESS]</td>\n",
       "      <td>cc:d0:83:98:a6:40</td>\n",
       "      <td>Mon Mar 28 09:52:40 GMT+03:00 2022</td>\n",
       "      <td>True</td>\n",
       "      <td>False</td>\n",
       "      <td>False</td>\n",
       "      <td>0</td>\n",
       "      <td>0</td>\n",
       "      <td>persistent</td>\n",
       "    </tr>\n",
       "    <tr>\n",
       "      <th>2</th>\n",
       "      <td>eduroam</td>\n",
       "      <td>[WPA2-EAP+FT/EAP-CCMP][RSN-EAP+FT/EAP-CCMP][ESS]</td>\n",
       "      <td>cc:d0:83:98:a6:42</td>\n",
       "      <td>Mon Mar 28 09:52:40 GMT+03:00 2022</td>\n",
       "      <td>False</td>\n",
       "      <td>True</td>\n",
       "      <td>False</td>\n",
       "      <td>3</td>\n",
       "      <td>2</td>\n",
       "      <td>persistent</td>\n",
       "    </tr>\n",
       "    <tr>\n",
       "      <th>3</th>\n",
       "      <td>TechSec</td>\n",
       "      <td>[WPA2-EAP+FT/EAP-CCMP][RSN-EAP+FT/EAP-CCMP][ESS]</td>\n",
       "      <td>cc:d0:83:98:a6:41</td>\n",
       "      <td>Mon Mar 28 09:52:40 GMT+03:00 2022</td>\n",
       "      <td>False</td>\n",
       "      <td>True</td>\n",
       "      <td>False</td>\n",
       "      <td>3</td>\n",
       "      <td>2</td>\n",
       "      <td>persistent</td>\n",
       "    </tr>\n",
       "  </tbody>\n",
       "</table>\n",
       "</div>"
      ],
      "text/plain": [
       "         SSID                                      Capabilities  \\\n",
       "0         NaN                [WPA2-PSK-CCMP][RSN-PSK-CCMP][ESS]   \n",
       "1  TechPublic                                             [ESS]   \n",
       "2     eduroam  [WPA2-EAP+FT/EAP-CCMP][RSN-EAP+FT/EAP-CCMP][ESS]   \n",
       "3     TechSec  [WPA2-EAP+FT/EAP-CCMP][RSN-EAP+FT/EAP-CCMP][ESS]   \n",
       "\n",
       "               BSSID                            ScanTime   Open  WPA2 Only  \\\n",
       "0  14:ae:db:b1:7b:c5  Mon Mar 28 09:52:40 GMT+03:00 2022  False       True   \n",
       "1  cc:d0:83:98:a6:40  Mon Mar 28 09:52:40 GMT+03:00 2022   True      False   \n",
       "2  cc:d0:83:98:a6:42  Mon Mar 28 09:52:40 GMT+03:00 2022  False       True   \n",
       "3  cc:d0:83:98:a6:41  Mon Mar 28 09:52:40 GMT+03:00 2022  False       True   \n",
       "\n",
       "     WPA  Security Level  Security Amount BSSID Presence Density  \n",
       "0  False               3                2             occasional  \n",
       "1  False               0                0             persistent  \n",
       "2  False               3                2             persistent  \n",
       "3  False               3                2             persistent  "
      ]
     },
     "execution_count": 270,
     "metadata": {},
     "output_type": "execute_result"
    }
   ],
   "source": [
    "df.head(4)"
   ]
  },
  {
   "cell_type": "code",
   "execution_count": 271,
   "id": "c3241058",
   "metadata": {},
   "outputs": [
    {
     "data": {
      "text/plain": [
       "rare          21\n",
       "occasional     5\n",
       "persistent     3\n",
       "Name: SSID Presence Density, dtype: int64"
      ]
     },
     "execution_count": 271,
     "metadata": {},
     "output_type": "execute_result"
    }
   ],
   "source": [
    "appearances2['SSID Presence Density'].value_counts()"
   ]
  },
  {
   "cell_type": "code",
   "execution_count": 272,
   "id": "6be9e94f",
   "metadata": {},
   "outputs": [
    {
     "data": {
      "text/html": [
       "<div>\n",
       "<style scoped>\n",
       "    .dataframe tbody tr th:only-of-type {\n",
       "        vertical-align: middle;\n",
       "    }\n",
       "\n",
       "    .dataframe tbody tr th {\n",
       "        vertical-align: top;\n",
       "    }\n",
       "\n",
       "    .dataframe thead th {\n",
       "        text-align: right;\n",
       "    }\n",
       "</style>\n",
       "<table border=\"1\" class=\"dataframe\">\n",
       "  <thead>\n",
       "    <tr style=\"text-align: right;\">\n",
       "      <th></th>\n",
       "      <th>SSID</th>\n",
       "      <th>scanCount</th>\n",
       "      <th>SSID Presence Density</th>\n",
       "    </tr>\n",
       "  </thead>\n",
       "  <tbody>\n",
       "    <tr>\n",
       "      <th>0</th>\n",
       "      <td>ל</td>\n",
       "      <td>5</td>\n",
       "      <td>rare</td>\n",
       "    </tr>\n",
       "    <tr>\n",
       "      <th>1</th>\n",
       "      <td>459-02</td>\n",
       "      <td>14</td>\n",
       "      <td>rare</td>\n",
       "    </tr>\n",
       "    <tr>\n",
       "      <th>2</th>\n",
       "      <td>AndroidAP48FC</td>\n",
       "      <td>1</td>\n",
       "      <td>rare</td>\n",
       "    </tr>\n",
       "    <tr>\n",
       "      <th>3</th>\n",
       "      <td>Aseel</td>\n",
       "      <td>31</td>\n",
       "      <td>rare</td>\n",
       "    </tr>\n",
       "  </tbody>\n",
       "</table>\n",
       "</div>"
      ],
      "text/plain": [
       "            SSID  scanCount SSID Presence Density\n",
       "0              ל          5                  rare\n",
       "1         459-02         14                  rare\n",
       "2  AndroidAP48FC          1                  rare\n",
       "3          Aseel         31                  rare"
      ]
     },
     "execution_count": 272,
     "metadata": {},
     "output_type": "execute_result"
    }
   ],
   "source": [
    "appearances2.head(4)"
   ]
  },
  {
   "cell_type": "code",
   "execution_count": 273,
   "id": "2cfaa55e",
   "metadata": {},
   "outputs": [
    {
     "data": {
      "text/html": [
       "<div>\n",
       "<style scoped>\n",
       "    .dataframe tbody tr th:only-of-type {\n",
       "        vertical-align: middle;\n",
       "    }\n",
       "\n",
       "    .dataframe tbody tr th {\n",
       "        vertical-align: top;\n",
       "    }\n",
       "\n",
       "    .dataframe thead th {\n",
       "        text-align: right;\n",
       "    }\n",
       "</style>\n",
       "<table border=\"1\" class=\"dataframe\">\n",
       "  <thead>\n",
       "    <tr style=\"text-align: right;\">\n",
       "      <th></th>\n",
       "      <th>SSID</th>\n",
       "      <th>scanCount</th>\n",
       "      <th>SSID Presence Density</th>\n",
       "    </tr>\n",
       "  </thead>\n",
       "  <tbody>\n",
       "    <tr>\n",
       "      <th>20</th>\n",
       "      <td>TechPublic</td>\n",
       "      <td>327</td>\n",
       "      <td>persistent</td>\n",
       "    </tr>\n",
       "    <tr>\n",
       "      <th>21</th>\n",
       "      <td>TechSec</td>\n",
       "      <td>355</td>\n",
       "      <td>persistent</td>\n",
       "    </tr>\n",
       "    <tr>\n",
       "      <th>23</th>\n",
       "      <td>eduroam</td>\n",
       "      <td>328</td>\n",
       "      <td>persistent</td>\n",
       "    </tr>\n",
       "  </tbody>\n",
       "</table>\n",
       "</div>"
      ],
      "text/plain": [
       "          SSID  scanCount SSID Presence Density\n",
       "20  TechPublic        327            persistent\n",
       "21     TechSec        355            persistent\n",
       "23     eduroam        328            persistent"
      ]
     },
     "execution_count": 273,
     "metadata": {},
     "output_type": "execute_result"
    }
   ],
   "source": [
    "appearances2[appearances2['SSID Presence Density']=='persistent'].head()"
   ]
  },
  {
   "cell_type": "code",
   "execution_count": 274,
   "id": "67582345",
   "metadata": {},
   "outputs": [
    {
     "data": {
      "image/png": "[encoded data removed]",
      "text/plain": [
       "<Figure size 432x288 with 1 Axes>"
      ]
     },
     "metadata": {},
     "output_type": "display_data"
    }
   ],
   "source": [
    "y = appearances2['SSID Presence Density'].value_counts().sort_index()\n",
    "labels = y.index.tolist()\n",
    "plt.pie(y,labels= labels, labeldistance= 1.2)\n",
    "plt.title(\"Distribution of nearby networks according to their presence\", y=1.1)\n",
    "plt.tight_layout()\n",
    "plt.show() "
   ]
  },
  {
   "cell_type": "code",
   "execution_count": 275,
   "id": "01c624a1",
   "metadata": {},
   "outputs": [
    {
     "data": {
      "text/plain": [
       "rare          168\n",
       "occasional     29\n",
       "persistent      3\n",
       "Name: BSSID Presence Density, dtype: int64"
      ]
     },
     "execution_count": 275,
     "metadata": {},
     "output_type": "execute_result"
    }
   ],
   "source": [
    "df1 = df.drop_duplicates(subset=[\"BSSID\", \"BSSID Presence Density\"])\n",
    "df1['BSSID Presence Density'].value_counts()"
   ]
  },
  {
   "cell_type": "code",
   "execution_count": 276,
   "id": "c46b3ec4",
   "metadata": {},
   "outputs": [
    {
     "data": {
      "image/png": "[encoded data removed]",
      "text/plain": [
       "<Figure size 432x288 with 1 Axes>"
      ]
     },
     "metadata": {},
     "output_type": "display_data"
    }
   ],
   "source": [
    "y = df1['BSSID Presence Density'].value_counts().sort_index()\n",
    "labels = y.index.tolist()\n",
    "plt.pie(y,labels= labels, labeldistance= 1.2)\n",
    "plt.title(\"Distribution of nearby devices according to their presence\", y=1.1)\n",
    "plt.tight_layout()\n",
    "plt.show() "
   ]
  },
  {
   "cell_type": "code",
   "execution_count": 277,
   "id": "7ec43af1",
   "metadata": {},
   "outputs": [
    {
     "name": "stdout",
     "output_type": "stream",
     "text": [
      "SSID                          BSSID            \n",
      " ל                            56:2e:24:48:d4:45    1\n",
      "459-02                        68:ff:7b:c8:4f:15    1\n",
      "                              78:65:59:6e:25:16    1\n",
      "AndroidAP48FC                 0a:c5:e1:b9:48:fc    1\n",
      "Aseel                         02:b5:d0:2d:16:f9    1\n",
      "BenarriMay’s phone            4a:61:10:34:a9:40    1\n",
      "Bonie                         a8:6a:bb:cd:d7:76    1\n",
      "CIS                           48:4a:e9:1a:0e:c3    1\n",
      "COFFEES                       14:ae:db:b1:6e:a5    1\n",
      "CRL                           0c:80:63:7b:d9:cb    1\n",
      "CRL_ROBOTS                    48:4a:e9:1a:0e:c0    1\n",
      "CS_GUEST                      48:4a:e9:18:ab:08    1\n",
      "                              48:4a:e9:18:c3:25    1\n",
      "                              48:4a:e9:19:75:e5    1\n",
      "                              48:4a:e9:1a:c2:25    1\n",
      "                              48:4a:e9:1b:28:25    1\n",
      "                              48:4a:e9:1b:a9:a5    1\n",
      "                              48:4a:e9:1b:ae:e8    1\n",
      "                              48:4a:e9:1b:ce:e5    1\n",
      "                              48:4a:e9:1b:f6:c8    1\n",
      "                              48:4a:e9:99:54:27    1\n",
      "                              48:4a:e9:9a:37:a5    1\n",
      "                              48:4a:e9:9a:3a:65    1\n",
      "                              48:4a:e9:9a:47:a8    1\n",
      "                              48:4a:e9:9a:4d:25    1\n",
      "                              48:4a:e9:9a:5f:07    1\n",
      "                              48:4a:e9:9a:61:27    1\n",
      "                              48:4a:e9:9a:62:a6    1\n",
      "                              48:4a:e9:9a:e6:e5    1\n",
      "CS_WIFI                       48:4a:e9:18:ab:02    1\n",
      "                              48:4a:e9:18:c3:23    1\n",
      "                              48:4a:e9:19:75:e3    1\n",
      "                              48:4a:e9:1a:c2:23    1\n",
      "                              48:4a:e9:1b:28:23    1\n",
      "                              48:4a:e9:1b:a9:a2    1\n",
      "                              48:4a:e9:1b:ce:e2    1\n",
      "                              48:4a:e9:1b:f6:c2    1\n",
      "                              48:4a:e9:1c:38:03    1\n",
      "                              48:4a:e9:9a:37:a3    1\n",
      "                              48:4a:e9:9a:3a:63    1\n",
      "                              48:4a:e9:9a:47:a2    1\n",
      "                              48:4a:e9:9a:4d:23    1\n",
      "                              48:4a:e9:9a:5f:05    1\n",
      "                              48:4a:e9:9a:62:a5    1\n",
      "CS_conference                 48:4a:e9:18:ab:05    1\n",
      "                              48:4a:e9:18:c3:26    1\n",
      "                              48:4a:e9:1a:c2:26    1\n",
      "                              48:4a:e9:1b:28:26    1\n",
      "                              48:4a:e9:1b:a9:a6    1\n",
      "                              48:4a:e9:1b:ce:e6    1\n",
      "                              48:4a:e9:1b:f6:c5    1\n",
      "                              48:4a:e9:9a:37:a6    1\n",
      "                              48:4a:e9:9a:3a:67    1\n",
      "                              48:4a:e9:9a:47:a5    1\n",
      "                              48:4a:e9:9a:4d:26    1\n",
      "                              48:4a:e9:9a:5f:06    1\n",
      "                              48:4a:e9:9a:62:a7    1\n",
      "DIRECT-99-HP PageWide P55250  3a:22:e2:38:bd:99    1\n",
      "DIRECT-gBDESKTOP-RQ05JV4ms7F  d6:d2:52:d8:b5:ad    1\n",
      "HOTBOX 4-62D8                 78:65:59:6e:62:de    1\n",
      "OPPO A52                      2a:05:d3:40:68:60    1\n",
      "POCO F3                       1a:07:1c:ca:9f:3e    1\n",
      "Redmi Note 9S                 62:ed:c1:14:6a:7d    1\n",
      "RotemPhone                    4e:45:2c:13:99:5c    1\n",
      "TechPublic                    00:21:e1:cf:6e:00    1\n",
      "                              48:4a:e9:18:ab:00    1\n",
      "                              48:4a:e9:18:c3:20    1\n",
      "                              48:4a:e9:19:75:e0    1\n",
      "                              48:4a:e9:19:ed:80    1\n",
      "                              48:4a:e9:1a:c2:20    1\n",
      "                              48:4a:e9:1b:a9:a0    1\n",
      "                              48:4a:e9:1b:ae:e2    1\n",
      "                              48:4a:e9:1b:ce:e0    1\n",
      "                              48:4a:e9:1b:f6:c0    1\n",
      "                              48:4a:e9:27:9e:a0    1\n",
      "                              48:4a:e9:9a:37:a0    1\n",
      "                              48:4a:e9:9a:47:a0    1\n",
      "                              48:4a:e9:9a:4d:20    1\n",
      "                              48:4a:e9:9a:5f:00    1\n",
      "                              48:4a:e9:9a:62:a0    1\n",
      "                              7c:57:3c:30:00:a0    1\n",
      "                              b4:5d:50:bd:ba:e0    1\n",
      "                              c8:b5:ad:35:d9:40    1\n",
      "                              c8:b5:ad:e6:cb:20    1\n",
      "                              c8:b5:ad:e6:dd:c0    1\n",
      "                              cc:d0:83:97:f9:e0    1\n",
      "                              cc:d0:83:98:a6:40    1\n",
      "                              d0:15:a6:74:22:e0    1\n",
      "TechSec                       00:21:e1:cf:6e:02    1\n",
      "                              48:4a:e9:18:ab:06    1\n",
      "                              48:4a:e9:18:c3:27    1\n",
      "                              48:4a:e9:19:ed:81    1\n",
      "                              48:4a:e9:1a:c2:27    1\n",
      "                              48:4a:e9:1b:28:27    1\n",
      "                              48:4a:e9:1b:91:65    1\n",
      "                              48:4a:e9:1b:a9:a7    1\n",
      "                              48:4a:e9:1b:ae:e6    1\n",
      "                              48:4a:e9:1b:ce:e7    1\n",
      "                              48:4a:e9:1b:f6:c6    1\n",
      "                              48:4a:e9:1c:38:07    1\n",
      "                              48:4a:e9:27:9e:a1    1\n",
      "                              48:4a:e9:9a:37:a7    1\n",
      "                              48:4a:e9:9a:3a:66    1\n",
      "                              48:4a:e9:9a:47:a6    1\n",
      "                              48:4a:e9:9a:4d:27    1\n",
      "                              48:4a:e9:9a:5a:c7    1\n",
      "                              48:4a:e9:9a:5f:03    1\n",
      "                              48:4a:e9:9a:62:a3    1\n",
      "                              48:4a:e9:9a:e6:e7    1\n",
      "                              7c:57:3c:30:00:a1    1\n",
      "                              b4:5d:50:bd:ba:e1    1\n",
      "                              c8:b5:ad:e6:cb:21    1\n",
      "                              c8:b5:ad:e6:dd:c1    1\n",
      "                              cc:d0:83:97:f9:e1    1\n",
      "                              cc:d0:83:98:a6:41    1\n",
      "                              d0:15:a6:74:22:e1    1\n",
      "WIFI_SSDL                     48:4a:e9:1c:38:01    1\n",
      "                              bc:9f:e4:97:08:82    1\n",
      "eduroam                       00:21:e1:cf:6e:04    1\n",
      "                              48:4a:e9:18:ab:03    1\n",
      "                              48:4a:e9:18:c3:22    1\n",
      "                              48:4a:e9:19:75:e2    1\n",
      "                              48:4a:e9:19:ed:82    1\n",
      "                              48:4a:e9:1a:c2:22    1\n",
      "                              48:4a:e9:1b:a9:a3    1\n",
      "                              48:4a:e9:1b:ce:e3    1\n",
      "                              48:4a:e9:1b:f6:c3    1\n",
      "                              48:4a:e9:1c:38:02    1\n",
      "                              48:4a:e9:9a:37:82    1\n",
      "                              48:4a:e9:9a:37:a2    1\n",
      "                              48:4a:e9:9a:3a:62    1\n",
      "                              48:4a:e9:9a:47:a3    1\n",
      "                              48:4a:e9:9a:4d:22    1\n",
      "                              48:4a:e9:9a:5f:04    1\n",
      "                              48:4a:e9:9a:62:a4    1\n",
      "                              7c:57:3c:30:00:a2    1\n",
      "                              b4:5d:50:bd:ba:e2    1\n",
      "                              bc:9f:e4:97:08:83    1\n",
      "                              c8:b5:ad:35:d9:42    1\n",
      "                              c8:b5:ad:e6:cb:22    1\n",
      "                              c8:b5:ad:e6:dd:c2    1\n",
      "                              cc:d0:83:97:f9:e2    1\n",
      "                              cc:d0:83:98:84:e2    1\n",
      "                              cc:d0:83:98:a6:42    1\n",
      "                              d0:15:a6:74:22:e2    1\n",
      "lib-test                      48:4a:e9:18:ab:07    1\n",
      "                              48:4a:e9:18:c3:28    1\n",
      "                              48:4a:e9:19:d5:28    1\n",
      "                              48:4a:e9:1a:c2:28    1\n",
      "                              48:4a:e9:1b:28:28    1\n",
      "                              48:4a:e9:1b:91:68    1\n",
      "                              48:4a:e9:1b:a9:a8    1\n",
      "                              48:4a:e9:1b:ce:e8    1\n",
      "                              48:4a:e9:1b:f6:c7    1\n",
      "                              48:4a:e9:9a:37:88    1\n",
      "                              48:4a:e9:9a:37:a8    1\n",
      "                              48:4a:e9:9a:3a:68    1\n",
      "                              48:4a:e9:9a:47:a7    1\n",
      "                              48:4a:e9:9a:4d:28    1\n",
      "                              48:4a:e9:9a:5a:c8    1\n",
      "                              48:4a:e9:9a:5f:08    1\n",
      "                              48:4a:e9:9a:62:a8    1\n",
      "                              48:4a:e9:9a:e6:e8    1\n",
      "nahum                         40:9b:cd:cf:be:37    1\n",
      "sonos_gar                     48:4a:e9:1c:38:05    1\n",
      "                              bc:9f:e4:97:08:86    1\n",
      "students_WIFI                 48:4a:e9:18:ab:04    1\n",
      "                              48:4a:e9:18:c3:24    1\n",
      "                              48:4a:e9:19:75:e4    1\n",
      "                              48:4a:e9:1a:c2:24    1\n",
      "                              48:4a:e9:1b:28:24    1\n",
      "                              48:4a:e9:1b:91:64    1\n",
      "                              48:4a:e9:1b:a9:a4    1\n",
      "                              48:4a:e9:1b:ce:e4    1\n",
      "                              48:4a:e9:1b:db:62    1\n",
      "                              48:4a:e9:1b:f6:c4    1\n",
      "                              48:4a:e9:1c:38:04    1\n",
      "                              48:4a:e9:9a:37:84    1\n",
      "                              48:4a:e9:9a:37:a4    1\n",
      "                              48:4a:e9:9a:3a:64    1\n",
      "                              48:4a:e9:9a:47:a4    1\n",
      "                              48:4a:e9:9a:4d:24    1\n",
      "                              48:4a:e9:9a:5f:02    1\n",
      "                              48:4a:e9:9a:62:a2    1\n",
      "ה-iPhone של אורן              26:b7:5e:30:7f:be    1\n"
     ]
    }
   ],
   "source": [
    "StationsPerNetwork = df1.groupby(\"SSID\")['BSSID'].value_counts()\n",
    "print(StationsPerNetwork.to_string())"
   ]
  },
  {
   "cell_type": "code",
   "execution_count": 278,
   "id": "99e3ab6d",
   "metadata": {},
   "outputs": [
    {
     "data": {
      "text/html": [
       "<div>\n",
       "<style scoped>\n",
       "    .dataframe tbody tr th:only-of-type {\n",
       "        vertical-align: middle;\n",
       "    }\n",
       "\n",
       "    .dataframe tbody tr th {\n",
       "        vertical-align: top;\n",
       "    }\n",
       "\n",
       "    .dataframe thead th {\n",
       "        text-align: right;\n",
       "    }\n",
       "</style>\n",
       "<table border=\"1\" class=\"dataframe\">\n",
       "  <thead>\n",
       "    <tr style=\"text-align: right;\">\n",
       "      <th></th>\n",
       "      <th>SSID</th>\n",
       "      <th>Stations Count</th>\n",
       "    </tr>\n",
       "  </thead>\n",
       "  <tbody>\n",
       "    <tr>\n",
       "      <th>0</th>\n",
       "      <td>ל</td>\n",
       "      <td>1</td>\n",
       "    </tr>\n",
       "    <tr>\n",
       "      <th>1</th>\n",
       "      <td>459-02</td>\n",
       "      <td>2</td>\n",
       "    </tr>\n",
       "    <tr>\n",
       "      <th>2</th>\n",
       "      <td>AndroidAP48FC</td>\n",
       "      <td>1</td>\n",
       "    </tr>\n",
       "    <tr>\n",
       "      <th>3</th>\n",
       "      <td>Aseel</td>\n",
       "      <td>1</td>\n",
       "    </tr>\n",
       "    <tr>\n",
       "      <th>4</th>\n",
       "      <td>BenarriMay’s phone</td>\n",
       "      <td>1</td>\n",
       "    </tr>\n",
       "    <tr>\n",
       "      <th>5</th>\n",
       "      <td>Bonie</td>\n",
       "      <td>1</td>\n",
       "    </tr>\n",
       "    <tr>\n",
       "      <th>6</th>\n",
       "      <td>CIS</td>\n",
       "      <td>1</td>\n",
       "    </tr>\n",
       "    <tr>\n",
       "      <th>7</th>\n",
       "      <td>COFFEES</td>\n",
       "      <td>1</td>\n",
       "    </tr>\n",
       "    <tr>\n",
       "      <th>8</th>\n",
       "      <td>CRL</td>\n",
       "      <td>1</td>\n",
       "    </tr>\n",
       "    <tr>\n",
       "      <th>9</th>\n",
       "      <td>CRL_ROBOTS</td>\n",
       "      <td>1</td>\n",
       "    </tr>\n",
       "    <tr>\n",
       "      <th>10</th>\n",
       "      <td>CS_GUEST</td>\n",
       "      <td>18</td>\n",
       "    </tr>\n",
       "    <tr>\n",
       "      <th>11</th>\n",
       "      <td>CS_WIFI</td>\n",
       "      <td>15</td>\n",
       "    </tr>\n",
       "  </tbody>\n",
       "</table>\n",
       "</div>"
      ],
      "text/plain": [
       "                  SSID  Stations Count\n",
       "0                    ל               1\n",
       "1               459-02               2\n",
       "2        AndroidAP48FC               1\n",
       "3                Aseel               1\n",
       "4   BenarriMay’s phone               1\n",
       "5                Bonie               1\n",
       "6                  CIS               1\n",
       "7              COFFEES               1\n",
       "8                  CRL               1\n",
       "9           CRL_ROBOTS               1\n",
       "10            CS_GUEST              18\n",
       "11             CS_WIFI              15"
      ]
     },
     "execution_count": 278,
     "metadata": {},
     "output_type": "execute_result"
    }
   ],
   "source": [
    "StationsPerNetwork = df.drop_duplicates(subset=[\"SSID\",\"BSSID\"])\n",
    "StationsPerNetwork = StationsPerNetwork.groupby([\"SSID\"]).size().reset_index(name=\"Stations Count\")\n",
    "StationsPerNetwork.head(12)"
   ]
  },
  {
   "cell_type": "code",
   "execution_count": 279,
   "id": "38272bd1",
   "metadata": {},
   "outputs": [
    {
     "data": {
      "text/html": [
       "<div>\n",
       "<style scoped>\n",
       "    .dataframe tbody tr th:only-of-type {\n",
       "        vertical-align: middle;\n",
       "    }\n",
       "\n",
       "    .dataframe tbody tr th {\n",
       "        vertical-align: top;\n",
       "    }\n",
       "\n",
       "    .dataframe thead th {\n",
       "        text-align: right;\n",
       "    }\n",
       "</style>\n",
       "<table border=\"1\" class=\"dataframe\">\n",
       "  <thead>\n",
       "    <tr style=\"text-align: right;\">\n",
       "      <th></th>\n",
       "      <th>Stations Count</th>\n",
       "      <th>Networks Count</th>\n",
       "    </tr>\n",
       "  </thead>\n",
       "  <tbody>\n",
       "    <tr>\n",
       "      <th>0</th>\n",
       "      <td>1</td>\n",
       "      <td>18</td>\n",
       "    </tr>\n",
       "    <tr>\n",
       "      <th>1</th>\n",
       "      <td>2</td>\n",
       "      <td>3</td>\n",
       "    </tr>\n",
       "    <tr>\n",
       "      <th>4</th>\n",
       "      <td>13</td>\n",
       "      <td>1</td>\n",
       "    </tr>\n",
       "    <tr>\n",
       "      <th>3</th>\n",
       "      <td>15</td>\n",
       "      <td>1</td>\n",
       "    </tr>\n",
       "    <tr>\n",
       "      <th>2</th>\n",
       "      <td>18</td>\n",
       "      <td>3</td>\n",
       "    </tr>\n",
       "    <tr>\n",
       "      <th>5</th>\n",
       "      <td>24</td>\n",
       "      <td>1</td>\n",
       "    </tr>\n",
       "    <tr>\n",
       "      <th>7</th>\n",
       "      <td>27</td>\n",
       "      <td>1</td>\n",
       "    </tr>\n",
       "    <tr>\n",
       "      <th>6</th>\n",
       "      <td>28</td>\n",
       "      <td>1</td>\n",
       "    </tr>\n",
       "  </tbody>\n",
       "</table>\n",
       "</div>"
      ],
      "text/plain": [
       "   Stations Count  Networks Count\n",
       "0               1              18\n",
       "1               2               3\n",
       "4              13               1\n",
       "3              15               1\n",
       "2              18               3\n",
       "5              24               1\n",
       "7              27               1\n",
       "6              28               1"
      ]
     },
     "execution_count": 279,
     "metadata": {},
     "output_type": "execute_result"
    }
   ],
   "source": [
    "StPerNet = StationsPerNetwork['Stations Count'].value_counts().rename_axis('Stations Count').reset_index(name='Networks Count')\n",
    "StPerNet.sort_values(by=['Stations Count'], inplace=True)\n",
    "StPerNet"
   ]
  },
  {
   "cell_type": "code",
   "execution_count": 280,
   "id": "ae24af32",
   "metadata": {},
   "outputs": [
    {
     "data": {
      "image/png": "[encoded data removed]",
      "text/plain": [
       "<Figure size 432x288 with 1 Axes>"
      ]
     },
     "metadata": {
      "needs_background": "light"
     },
     "output_type": "display_data"
    }
   ],
   "source": [
    "StPerNet.plot.bar(x='Stations Count', y='Networks Count', rot=0, legend=None)\n",
    "plt.yticks(np.arange(StPerNet[\"Networks Count\"].min(), StPerNet[\"Networks Count\"].max()+1,3))\n",
    "plt.ylabel('Amount of networks')\n",
    "plt.title(\"Number of Networks (SSID) in each possible stations (BSSID) count\", y=1.1)\n",
    "plt.tight_layout()\n",
    "plt.show() "
   ]
  },
  {
   "cell_type": "code",
   "execution_count": 281,
   "id": "e2ff8788",
   "metadata": {},
   "outputs": [
    {
     "data": {
      "text/plain": [
       "SSID                      object\n",
       "Capabilities              object\n",
       "BSSID                     object\n",
       "ScanTime                  object\n",
       "Open                        bool\n",
       "WPA2 Only                   bool\n",
       "WPA                         bool\n",
       "Security Level             int64\n",
       "Security Amount            int64\n",
       "BSSID Presence Density    object\n",
       "dtype: object"
      ]
     },
     "execution_count": 281,
     "metadata": {},
     "output_type": "execute_result"
    }
   ],
   "source": [
    "df.dtypes"
   ]
  },
  {
   "cell_type": "code",
   "execution_count": 282,
   "id": "052b40cb",
   "metadata": {},
   "outputs": [],
   "source": [
    "df = df.astype({\"ScanTime\": str})"
   ]
  },
  {
   "cell_type": "code",
   "execution_count": 283,
   "id": "1e8b6e90",
   "metadata": {},
   "outputs": [],
   "source": [
    "def changeScanTimeType(r):\n",
    "    # [Day, Month, Date, hh:mm:ss, GMT, Year]\n",
    "    try:\n",
    "        if pd.isna(r['ScanTime']):\n",
    "            return np.nan\n",
    "        old = r['ScanTime'].split() \n",
    "        month = int(strptime(old[1], '%b').tm_mon)\n",
    "        oldTime = old[3].split(\":\")\n",
    "        oldTime = list(map(int, oldTime))\n",
    "        newScanTime = datetime.datetime(int(old[5]), month, int(old[2]), oldTime[0], oldTime[1], oldTime[2])\n",
    "        return newScanTime\n",
    "    except:\n",
    "        return np.nan"
   ]
  },
  {
   "cell_type": "code",
   "execution_count": 284,
   "id": "10aa3d6a",
   "metadata": {},
   "outputs": [],
   "source": [
    "df['Scan Time'] = df.apply(lambda row: changeScanTimeType(row), axis=1)\n",
    "df.drop(['ScanTime'], axis=1, inplace=True)"
   ]
  },
  {
   "cell_type": "code",
   "execution_count": 285,
   "id": "f25c4a5b",
   "metadata": {},
   "outputs": [
    {
     "data": {
      "text/html": [
       "<div>\n",
       "<style scoped>\n",
       "    .dataframe tbody tr th:only-of-type {\n",
       "        vertical-align: middle;\n",
       "    }\n",
       "\n",
       "    .dataframe tbody tr th {\n",
       "        vertical-align: top;\n",
       "    }\n",
       "\n",
       "    .dataframe thead th {\n",
       "        text-align: right;\n",
       "    }\n",
       "</style>\n",
       "<table border=\"1\" class=\"dataframe\">\n",
       "  <thead>\n",
       "    <tr style=\"text-align: right;\">\n",
       "      <th></th>\n",
       "      <th>SSID</th>\n",
       "      <th>Capabilities</th>\n",
       "      <th>BSSID</th>\n",
       "      <th>Open</th>\n",
       "      <th>WPA2 Only</th>\n",
       "      <th>WPA</th>\n",
       "      <th>Security Level</th>\n",
       "      <th>Security Amount</th>\n",
       "      <th>BSSID Presence Density</th>\n",
       "      <th>Scan Time</th>\n",
       "    </tr>\n",
       "  </thead>\n",
       "  <tbody>\n",
       "    <tr>\n",
       "      <th>0</th>\n",
       "      <td>NaN</td>\n",
       "      <td>[WPA2-PSK-CCMP][RSN-PSK-CCMP][ESS]</td>\n",
       "      <td>14:ae:db:b1:7b:c5</td>\n",
       "      <td>False</td>\n",
       "      <td>True</td>\n",
       "      <td>False</td>\n",
       "      <td>3</td>\n",
       "      <td>2</td>\n",
       "      <td>occasional</td>\n",
       "      <td>2022-03-28 09:52:40</td>\n",
       "    </tr>\n",
       "    <tr>\n",
       "      <th>1</th>\n",
       "      <td>TechPublic</td>\n",
       "      <td>[ESS]</td>\n",
       "      <td>cc:d0:83:98:a6:40</td>\n",
       "      <td>True</td>\n",
       "      <td>False</td>\n",
       "      <td>False</td>\n",
       "      <td>0</td>\n",
       "      <td>0</td>\n",
       "      <td>persistent</td>\n",
       "      <td>2022-03-28 09:52:40</td>\n",
       "    </tr>\n",
       "    <tr>\n",
       "      <th>2</th>\n",
       "      <td>eduroam</td>\n",
       "      <td>[WPA2-EAP+FT/EAP-CCMP][RSN-EAP+FT/EAP-CCMP][ESS]</td>\n",
       "      <td>cc:d0:83:98:a6:42</td>\n",
       "      <td>False</td>\n",
       "      <td>True</td>\n",
       "      <td>False</td>\n",
       "      <td>3</td>\n",
       "      <td>2</td>\n",
       "      <td>persistent</td>\n",
       "      <td>2022-03-28 09:52:40</td>\n",
       "    </tr>\n",
       "    <tr>\n",
       "      <th>3</th>\n",
       "      <td>TechSec</td>\n",
       "      <td>[WPA2-EAP+FT/EAP-CCMP][RSN-EAP+FT/EAP-CCMP][ESS]</td>\n",
       "      <td>cc:d0:83:98:a6:41</td>\n",
       "      <td>False</td>\n",
       "      <td>True</td>\n",
       "      <td>False</td>\n",
       "      <td>3</td>\n",
       "      <td>2</td>\n",
       "      <td>persistent</td>\n",
       "      <td>2022-03-28 09:52:40</td>\n",
       "    </tr>\n",
       "  </tbody>\n",
       "</table>\n",
       "</div>"
      ],
      "text/plain": [
       "         SSID                                      Capabilities  \\\n",
       "0         NaN                [WPA2-PSK-CCMP][RSN-PSK-CCMP][ESS]   \n",
       "1  TechPublic                                             [ESS]   \n",
       "2     eduroam  [WPA2-EAP+FT/EAP-CCMP][RSN-EAP+FT/EAP-CCMP][ESS]   \n",
       "3     TechSec  [WPA2-EAP+FT/EAP-CCMP][RSN-EAP+FT/EAP-CCMP][ESS]   \n",
       "\n",
       "               BSSID   Open  WPA2 Only    WPA  Security Level  \\\n",
       "0  14:ae:db:b1:7b:c5  False       True  False               3   \n",
       "1  cc:d0:83:98:a6:40   True      False  False               0   \n",
       "2  cc:d0:83:98:a6:42  False       True  False               3   \n",
       "3  cc:d0:83:98:a6:41  False       True  False               3   \n",
       "\n",
       "   Security Amount BSSID Presence Density           Scan Time  \n",
       "0                2             occasional 2022-03-28 09:52:40  \n",
       "1                0             persistent 2022-03-28 09:52:40  \n",
       "2                2             persistent 2022-03-28 09:52:40  \n",
       "3                2             persistent 2022-03-28 09:52:40  "
      ]
     },
     "execution_count": 285,
     "metadata": {},
     "output_type": "execute_result"
    }
   ],
   "source": [
    "df.head(4)"
   ]
  },
  {
   "cell_type": "code",
   "execution_count": 286,
   "id": "cffceceb",
   "metadata": {},
   "outputs": [
    {
     "data": {
      "text/html": [
       "<div>\n",
       "<style scoped>\n",
       "    .dataframe tbody tr th:only-of-type {\n",
       "        vertical-align: middle;\n",
       "    }\n",
       "\n",
       "    .dataframe tbody tr th {\n",
       "        vertical-align: top;\n",
       "    }\n",
       "\n",
       "    .dataframe thead th {\n",
       "        text-align: right;\n",
       "    }\n",
       "</style>\n",
       "<table border=\"1\" class=\"dataframe\">\n",
       "  <thead>\n",
       "    <tr style=\"text-align: right;\">\n",
       "      <th></th>\n",
       "      <th>BSSID</th>\n",
       "      <th>minScanTime</th>\n",
       "      <th>maxScanTime</th>\n",
       "    </tr>\n",
       "  </thead>\n",
       "  <tbody>\n",
       "    <tr>\n",
       "      <th>0</th>\n",
       "      <td>00:21:e1:cf:6e:00</td>\n",
       "      <td>2022-03-29 13:02:18</td>\n",
       "      <td>2022-03-29 13:05:43</td>\n",
       "    </tr>\n",
       "    <tr>\n",
       "      <th>1</th>\n",
       "      <td>00:21:e1:cf:6e:02</td>\n",
       "      <td>2022-03-29 13:05:43</td>\n",
       "      <td>2022-03-29 13:05:43</td>\n",
       "    </tr>\n",
       "    <tr>\n",
       "      <th>2</th>\n",
       "      <td>00:21:e1:cf:6e:04</td>\n",
       "      <td>2022-03-29 12:58:41</td>\n",
       "      <td>2022-03-29 13:05:43</td>\n",
       "    </tr>\n",
       "    <tr>\n",
       "      <th>3</th>\n",
       "      <td>02:b5:d0:2d:16:f9</td>\n",
       "      <td>2022-03-28 10:37:41</td>\n",
       "      <td>2022-03-28 13:23:38</td>\n",
       "    </tr>\n",
       "    <tr>\n",
       "      <th>4</th>\n",
       "      <td>0a:c5:e1:b9:48:fc</td>\n",
       "      <td>2022-03-29 11:35:43</td>\n",
       "      <td>2022-03-29 11:35:43</td>\n",
       "    </tr>\n",
       "    <tr>\n",
       "      <th>...</th>\n",
       "      <td>...</td>\n",
       "      <td>...</td>\n",
       "      <td>...</td>\n",
       "    </tr>\n",
       "    <tr>\n",
       "      <th>195</th>\n",
       "      <td>d0:15:a6:74:22:e0</td>\n",
       "      <td>2022-03-29 13:28:11</td>\n",
       "      <td>2022-03-29 13:28:11</td>\n",
       "    </tr>\n",
       "    <tr>\n",
       "      <th>196</th>\n",
       "      <td>d0:15:a6:74:22:e1</td>\n",
       "      <td>2022-03-29 13:28:11</td>\n",
       "      <td>2022-03-29 13:28:11</td>\n",
       "    </tr>\n",
       "    <tr>\n",
       "      <th>197</th>\n",
       "      <td>d0:15:a6:74:22:e2</td>\n",
       "      <td>2022-03-29 13:28:11</td>\n",
       "      <td>2022-03-29 13:28:11</td>\n",
       "    </tr>\n",
       "    <tr>\n",
       "      <th>198</th>\n",
       "      <td>d6:d2:52:d8:b5:ad</td>\n",
       "      <td>2022-03-28 11:41:37</td>\n",
       "      <td>2022-03-28 12:26:38</td>\n",
       "    </tr>\n",
       "    <tr>\n",
       "      <th>199</th>\n",
       "      <td>ee:c5:93:0e:0d:49</td>\n",
       "      <td>2022-03-28 10:23:58</td>\n",
       "      <td>2022-03-28 10:23:58</td>\n",
       "    </tr>\n",
       "  </tbody>\n",
       "</table>\n",
       "<p>200 rows × 3 columns</p>\n",
       "</div>"
      ],
      "text/plain": [
       "                 BSSID         minScanTime         maxScanTime\n",
       "0    00:21:e1:cf:6e:00 2022-03-29 13:02:18 2022-03-29 13:05:43\n",
       "1    00:21:e1:cf:6e:02 2022-03-29 13:05:43 2022-03-29 13:05:43\n",
       "2    00:21:e1:cf:6e:04 2022-03-29 12:58:41 2022-03-29 13:05:43\n",
       "3    02:b5:d0:2d:16:f9 2022-03-28 10:37:41 2022-03-28 13:23:38\n",
       "4    0a:c5:e1:b9:48:fc 2022-03-29 11:35:43 2022-03-29 11:35:43\n",
       "..                 ...                 ...                 ...\n",
       "195  d0:15:a6:74:22:e0 2022-03-29 13:28:11 2022-03-29 13:28:11\n",
       "196  d0:15:a6:74:22:e1 2022-03-29 13:28:11 2022-03-29 13:28:11\n",
       "197  d0:15:a6:74:22:e2 2022-03-29 13:28:11 2022-03-29 13:28:11\n",
       "198  d6:d2:52:d8:b5:ad 2022-03-28 11:41:37 2022-03-28 12:26:38\n",
       "199  ee:c5:93:0e:0d:49 2022-03-28 10:23:58 2022-03-28 10:23:58\n",
       "\n",
       "[200 rows x 3 columns]"
      ]
     },
     "execution_count": 286,
     "metadata": {},
     "output_type": "execute_result"
    }
   ],
   "source": [
    "ScanTimes = df.groupby([\"BSSID\"]).agg(\n",
    "        minScanTime=('Scan Time', 'min'),\n",
    "        maxScanTime=('Scan Time', 'max')).reset_index(['BSSID'])\n",
    "ScanTimes"
   ]
  },
  {
   "cell_type": "code",
   "execution_count": 287,
   "id": "b72a8f3f",
   "metadata": {},
   "outputs": [
    {
     "data": {
      "text/html": [
       "<div>\n",
       "<style scoped>\n",
       "    .dataframe tbody tr th:only-of-type {\n",
       "        vertical-align: middle;\n",
       "    }\n",
       "\n",
       "    .dataframe tbody tr th {\n",
       "        vertical-align: top;\n",
       "    }\n",
       "\n",
       "    .dataframe thead th {\n",
       "        text-align: right;\n",
       "    }\n",
       "</style>\n",
       "<table border=\"1\" class=\"dataframe\">\n",
       "  <thead>\n",
       "    <tr style=\"text-align: right;\">\n",
       "      <th></th>\n",
       "      <th>SSID</th>\n",
       "      <th>minScanTime</th>\n",
       "      <th>maxScanTime</th>\n",
       "    </tr>\n",
       "  </thead>\n",
       "  <tbody>\n",
       "    <tr>\n",
       "      <th>0</th>\n",
       "      <td>ל</td>\n",
       "      <td>2022-03-29 12:05:44</td>\n",
       "      <td>2022-03-29 12:09:10</td>\n",
       "    </tr>\n",
       "    <tr>\n",
       "      <th>1</th>\n",
       "      <td>459-02</td>\n",
       "      <td>2022-03-28 14:52:45</td>\n",
       "      <td>2022-03-29 14:47:03</td>\n",
       "    </tr>\n",
       "    <tr>\n",
       "      <th>2</th>\n",
       "      <td>AndroidAP48FC</td>\n",
       "      <td>2022-03-29 11:35:43</td>\n",
       "      <td>2022-03-29 11:35:43</td>\n",
       "    </tr>\n",
       "    <tr>\n",
       "      <th>3</th>\n",
       "      <td>Aseel</td>\n",
       "      <td>2022-03-28 10:37:41</td>\n",
       "      <td>2022-03-28 13:23:38</td>\n",
       "    </tr>\n",
       "    <tr>\n",
       "      <th>4</th>\n",
       "      <td>BenarriMay’s phone</td>\n",
       "      <td>2022-03-29 11:20:41</td>\n",
       "      <td>2022-03-29 11:24:10</td>\n",
       "    </tr>\n",
       "  </tbody>\n",
       "</table>\n",
       "</div>"
      ],
      "text/plain": [
       "                 SSID         minScanTime         maxScanTime\n",
       "0                   ל 2022-03-29 12:05:44 2022-03-29 12:09:10\n",
       "1              459-02 2022-03-28 14:52:45 2022-03-29 14:47:03\n",
       "2       AndroidAP48FC 2022-03-29 11:35:43 2022-03-29 11:35:43\n",
       "3               Aseel 2022-03-28 10:37:41 2022-03-28 13:23:38\n",
       "4  BenarriMay’s phone 2022-03-29 11:20:41 2022-03-29 11:24:10"
      ]
     },
     "execution_count": 287,
     "metadata": {},
     "output_type": "execute_result"
    }
   ],
   "source": [
    "ScanTimes2 = df.groupby([\"SSID\"]).agg(\n",
    "        minScanTime=('Scan Time', 'min'),\n",
    "        maxScanTime=('Scan Time', 'max')).reset_index(['SSID'])\n",
    "ScanTimes2.head()"
   ]
  },
  {
   "cell_type": "code",
   "execution_count": 288,
   "id": "59a97c3a",
   "metadata": {},
   "outputs": [],
   "source": [
    "def calcLifetime(r):\n",
    "    rMinScanTime = ScanTimes[ScanTimes.BSSID == r.BSSID].values[0][1] # values[0][1] == minScanTime\n",
    "    rMaxScanTime = ScanTimes[ScanTimes.BSSID == r.BSSID].values[0][2] # values[0][2] == maxScanTime\n",
    "    diff = rMaxScanTime - rMinScanTime\n",
    "    \n",
    "    return round(diff.seconds / 3600, 2) + diff.days * 24\n",
    "\n",
    "def SSIDcalcLifetime(r):\n",
    "    diff = r.maxScanTime - r.minScanTime\n",
    "    \n",
    "    return round(diff.seconds / 3600, 2) + diff.days * 24"
   ]
  },
  {
   "cell_type": "code",
   "execution_count": 289,
   "id": "440ebf50",
   "metadata": {},
   "outputs": [],
   "source": [
    "df['Lifetime'] = df.apply(lambda row: calcLifetime(row), axis=1)"
   ]
  },
  {
   "cell_type": "code",
   "execution_count": 290,
   "id": "70b444c2",
   "metadata": {},
   "outputs": [
    {
     "data": {
      "text/html": [
       "<div>\n",
       "<style scoped>\n",
       "    .dataframe tbody tr th:only-of-type {\n",
       "        vertical-align: middle;\n",
       "    }\n",
       "\n",
       "    .dataframe tbody tr th {\n",
       "        vertical-align: top;\n",
       "    }\n",
       "\n",
       "    .dataframe thead th {\n",
       "        text-align: right;\n",
       "    }\n",
       "</style>\n",
       "<table border=\"1\" class=\"dataframe\">\n",
       "  <thead>\n",
       "    <tr style=\"text-align: right;\">\n",
       "      <th></th>\n",
       "      <th>SSID</th>\n",
       "      <th>minScanTime</th>\n",
       "      <th>maxScanTime</th>\n",
       "      <th>SSID Lifetime</th>\n",
       "    </tr>\n",
       "  </thead>\n",
       "  <tbody>\n",
       "    <tr>\n",
       "      <th>0</th>\n",
       "      <td>ל</td>\n",
       "      <td>2022-03-29 12:05:44</td>\n",
       "      <td>2022-03-29 12:09:10</td>\n",
       "      <td>0.06</td>\n",
       "    </tr>\n",
       "    <tr>\n",
       "      <th>1</th>\n",
       "      <td>459-02</td>\n",
       "      <td>2022-03-28 14:52:45</td>\n",
       "      <td>2022-03-29 14:47:03</td>\n",
       "      <td>23.91</td>\n",
       "    </tr>\n",
       "    <tr>\n",
       "      <th>2</th>\n",
       "      <td>AndroidAP48FC</td>\n",
       "      <td>2022-03-29 11:35:43</td>\n",
       "      <td>2022-03-29 11:35:43</td>\n",
       "      <td>0.00</td>\n",
       "    </tr>\n",
       "    <tr>\n",
       "      <th>3</th>\n",
       "      <td>Aseel</td>\n",
       "      <td>2022-03-28 10:37:41</td>\n",
       "      <td>2022-03-28 13:23:38</td>\n",
       "      <td>2.77</td>\n",
       "    </tr>\n",
       "  </tbody>\n",
       "</table>\n",
       "</div>"
      ],
      "text/plain": [
       "            SSID         minScanTime         maxScanTime  SSID Lifetime\n",
       "0              ל 2022-03-29 12:05:44 2022-03-29 12:09:10           0.06\n",
       "1         459-02 2022-03-28 14:52:45 2022-03-29 14:47:03          23.91\n",
       "2  AndroidAP48FC 2022-03-29 11:35:43 2022-03-29 11:35:43           0.00\n",
       "3          Aseel 2022-03-28 10:37:41 2022-03-28 13:23:38           2.77"
      ]
     },
     "execution_count": 290,
     "metadata": {},
     "output_type": "execute_result"
    }
   ],
   "source": [
    "ScanTimes2['SSID Lifetime'] = ScanTimes2.apply(lambda row: SSIDcalcLifetime(row), axis=1)\n",
    "ScanTimes2.head(4)"
   ]
  },
  {
   "cell_type": "code",
   "execution_count": 291,
   "id": "38739ef2",
   "metadata": {},
   "outputs": [
    {
     "name": "stdout",
     "output_type": "stream",
     "text": [
      "max Lifetime = 27.72\n",
      "min Lifetime = 0.0\n"
     ]
    }
   ],
   "source": [
    "max_Lifetime = ScanTimes2[\"SSID Lifetime\"].max()\n",
    "min_Lifetime = ScanTimes2[\"SSID Lifetime\"].min()\n",
    "print(\"max Lifetime = {}\".format(max_Lifetime))\n",
    "print(\"min Lifetime = {}\".format(min_Lifetime))"
   ]
  },
  {
   "cell_type": "code",
   "execution_count": 292,
   "id": "287415e4",
   "metadata": {},
   "outputs": [],
   "source": [
    "def lifetimeNorm(r):\n",
    "    return round((r[\"SSID Lifetime\"] - min_Lifetime) / (max_Lifetime - min_Lifetime), 2)"
   ]
  },
  {
   "cell_type": "code",
   "execution_count": 293,
   "id": "1bce8ae9",
   "metadata": {},
   "outputs": [
    {
     "data": {
      "text/html": [
       "<div>\n",
       "<style scoped>\n",
       "    .dataframe tbody tr th:only-of-type {\n",
       "        vertical-align: middle;\n",
       "    }\n",
       "\n",
       "    .dataframe tbody tr th {\n",
       "        vertical-align: top;\n",
       "    }\n",
       "\n",
       "    .dataframe thead th {\n",
       "        text-align: right;\n",
       "    }\n",
       "</style>\n",
       "<table border=\"1\" class=\"dataframe\">\n",
       "  <thead>\n",
       "    <tr style=\"text-align: right;\">\n",
       "      <th></th>\n",
       "      <th>SSID</th>\n",
       "      <th>minScanTime</th>\n",
       "      <th>maxScanTime</th>\n",
       "      <th>SSID Lifetime</th>\n",
       "      <th>Lifetime %</th>\n",
       "    </tr>\n",
       "  </thead>\n",
       "  <tbody>\n",
       "    <tr>\n",
       "      <th>0</th>\n",
       "      <td>ל</td>\n",
       "      <td>2022-03-29 12:05:44</td>\n",
       "      <td>2022-03-29 12:09:10</td>\n",
       "      <td>0.06</td>\n",
       "      <td>0.00</td>\n",
       "    </tr>\n",
       "    <tr>\n",
       "      <th>1</th>\n",
       "      <td>459-02</td>\n",
       "      <td>2022-03-28 14:52:45</td>\n",
       "      <td>2022-03-29 14:47:03</td>\n",
       "      <td>23.91</td>\n",
       "      <td>0.86</td>\n",
       "    </tr>\n",
       "    <tr>\n",
       "      <th>2</th>\n",
       "      <td>AndroidAP48FC</td>\n",
       "      <td>2022-03-29 11:35:43</td>\n",
       "      <td>2022-03-29 11:35:43</td>\n",
       "      <td>0.00</td>\n",
       "      <td>0.00</td>\n",
       "    </tr>\n",
       "    <tr>\n",
       "      <th>3</th>\n",
       "      <td>Aseel</td>\n",
       "      <td>2022-03-28 10:37:41</td>\n",
       "      <td>2022-03-28 13:23:38</td>\n",
       "      <td>2.77</td>\n",
       "      <td>0.10</td>\n",
       "    </tr>\n",
       "    <tr>\n",
       "      <th>4</th>\n",
       "      <td>BenarriMay’s phone</td>\n",
       "      <td>2022-03-29 11:20:41</td>\n",
       "      <td>2022-03-29 11:24:10</td>\n",
       "      <td>0.06</td>\n",
       "      <td>0.00</td>\n",
       "    </tr>\n",
       "    <tr>\n",
       "      <th>5</th>\n",
       "      <td>Bonie</td>\n",
       "      <td>2022-03-28 14:17:50</td>\n",
       "      <td>2022-03-29 14:47:03</td>\n",
       "      <td>24.49</td>\n",
       "      <td>0.88</td>\n",
       "    </tr>\n",
       "    <tr>\n",
       "      <th>6</th>\n",
       "      <td>CIS</td>\n",
       "      <td>2022-03-29 12:35:23</td>\n",
       "      <td>2022-03-29 13:02:18</td>\n",
       "      <td>0.45</td>\n",
       "      <td>0.02</td>\n",
       "    </tr>\n",
       "    <tr>\n",
       "      <th>7</th>\n",
       "      <td>COFFEES</td>\n",
       "      <td>2022-03-28 09:46:03</td>\n",
       "      <td>2022-03-28 09:47:59</td>\n",
       "      <td>0.03</td>\n",
       "      <td>0.00</td>\n",
       "    </tr>\n",
       "    <tr>\n",
       "      <th>8</th>\n",
       "      <td>CRL</td>\n",
       "      <td>2022-03-29 12:32:23</td>\n",
       "      <td>2022-03-29 13:08:43</td>\n",
       "      <td>0.61</td>\n",
       "      <td>0.02</td>\n",
       "    </tr>\n",
       "    <tr>\n",
       "      <th>9</th>\n",
       "      <td>CRL_ROBOTS</td>\n",
       "      <td>2022-03-29 13:05:43</td>\n",
       "      <td>2022-03-29 13:05:43</td>\n",
       "      <td>0.00</td>\n",
       "      <td>0.00</td>\n",
       "    </tr>\n",
       "    <tr>\n",
       "      <th>10</th>\n",
       "      <td>CS_GUEST</td>\n",
       "      <td>2022-03-29 10:25:45</td>\n",
       "      <td>2022-03-29 13:08:43</td>\n",
       "      <td>2.72</td>\n",
       "      <td>0.10</td>\n",
       "    </tr>\n",
       "    <tr>\n",
       "      <th>11</th>\n",
       "      <td>CS_WIFI</td>\n",
       "      <td>2022-03-29 10:25:45</td>\n",
       "      <td>2022-03-29 13:08:43</td>\n",
       "      <td>2.72</td>\n",
       "      <td>0.10</td>\n",
       "    </tr>\n",
       "    <tr>\n",
       "      <th>12</th>\n",
       "      <td>CS_conference</td>\n",
       "      <td>2022-03-29 10:25:45</td>\n",
       "      <td>2022-03-29 13:08:43</td>\n",
       "      <td>2.72</td>\n",
       "      <td>0.10</td>\n",
       "    </tr>\n",
       "    <tr>\n",
       "      <th>13</th>\n",
       "      <td>DIRECT-99-HP PageWide P55250</td>\n",
       "      <td>2022-03-28 09:45:00</td>\n",
       "      <td>2022-03-28 12:20:37</td>\n",
       "      <td>2.59</td>\n",
       "      <td>0.09</td>\n",
       "    </tr>\n",
       "    <tr>\n",
       "      <th>14</th>\n",
       "      <td>DIRECT-gBDESKTOP-RQ05JV4ms7F</td>\n",
       "      <td>2022-03-28 11:41:37</td>\n",
       "      <td>2022-03-28 12:26:38</td>\n",
       "      <td>0.75</td>\n",
       "      <td>0.03</td>\n",
       "    </tr>\n",
       "    <tr>\n",
       "      <th>15</th>\n",
       "      <td>HOTBOX 4-62D8</td>\n",
       "      <td>2022-03-28 14:17:50</td>\n",
       "      <td>2022-03-29 14:47:03</td>\n",
       "      <td>24.49</td>\n",
       "      <td>0.88</td>\n",
       "    </tr>\n",
       "    <tr>\n",
       "      <th>16</th>\n",
       "      <td>OPPO A52</td>\n",
       "      <td>2022-03-28 13:26:38</td>\n",
       "      <td>2022-03-28 13:26:38</td>\n",
       "      <td>0.00</td>\n",
       "      <td>0.00</td>\n",
       "    </tr>\n",
       "    <tr>\n",
       "      <th>17</th>\n",
       "      <td>POCO F3</td>\n",
       "      <td>2022-03-29 13:28:11</td>\n",
       "      <td>2022-03-29 13:28:11</td>\n",
       "      <td>0.00</td>\n",
       "      <td>0.00</td>\n",
       "    </tr>\n",
       "    <tr>\n",
       "      <th>18</th>\n",
       "      <td>Redmi Note 9S</td>\n",
       "      <td>2022-03-28 12:59:38</td>\n",
       "      <td>2022-03-28 12:59:38</td>\n",
       "      <td>0.00</td>\n",
       "      <td>0.00</td>\n",
       "    </tr>\n",
       "    <tr>\n",
       "      <th>19</th>\n",
       "      <td>RotemPhone</td>\n",
       "      <td>2022-03-28 12:29:38</td>\n",
       "      <td>2022-03-28 12:59:38</td>\n",
       "      <td>0.50</td>\n",
       "      <td>0.02</td>\n",
       "    </tr>\n",
       "    <tr>\n",
       "      <th>20</th>\n",
       "      <td>TechPublic</td>\n",
       "      <td>2022-03-28 09:45:00</td>\n",
       "      <td>2022-03-29 13:28:11</td>\n",
       "      <td>27.72</td>\n",
       "      <td>1.00</td>\n",
       "    </tr>\n",
       "    <tr>\n",
       "      <th>21</th>\n",
       "      <td>TechSec</td>\n",
       "      <td>2022-03-28 09:45:00</td>\n",
       "      <td>2022-03-29 13:28:11</td>\n",
       "      <td>27.72</td>\n",
       "      <td>1.00</td>\n",
       "    </tr>\n",
       "    <tr>\n",
       "      <th>22</th>\n",
       "      <td>WIFI_SSDL</td>\n",
       "      <td>2022-03-29 10:54:10</td>\n",
       "      <td>2022-03-29 13:02:42</td>\n",
       "      <td>2.14</td>\n",
       "      <td>0.08</td>\n",
       "    </tr>\n",
       "    <tr>\n",
       "      <th>23</th>\n",
       "      <td>eduroam</td>\n",
       "      <td>2022-03-28 09:45:00</td>\n",
       "      <td>2022-03-29 13:28:11</td>\n",
       "      <td>27.72</td>\n",
       "      <td>1.00</td>\n",
       "    </tr>\n",
       "    <tr>\n",
       "      <th>24</th>\n",
       "      <td>lib-test</td>\n",
       "      <td>2022-03-29 10:25:45</td>\n",
       "      <td>2022-03-29 13:08:43</td>\n",
       "      <td>2.72</td>\n",
       "      <td>0.10</td>\n",
       "    </tr>\n",
       "    <tr>\n",
       "      <th>25</th>\n",
       "      <td>nahum</td>\n",
       "      <td>2022-03-29 13:28:11</td>\n",
       "      <td>2022-03-29 13:28:11</td>\n",
       "      <td>0.00</td>\n",
       "      <td>0.00</td>\n",
       "    </tr>\n",
       "    <tr>\n",
       "      <th>26</th>\n",
       "      <td>sonos_gar</td>\n",
       "      <td>2022-03-29 10:31:44</td>\n",
       "      <td>2022-03-29 13:08:43</td>\n",
       "      <td>2.62</td>\n",
       "      <td>0.09</td>\n",
       "    </tr>\n",
       "    <tr>\n",
       "      <th>27</th>\n",
       "      <td>students_WIFI</td>\n",
       "      <td>2022-03-29 10:25:45</td>\n",
       "      <td>2022-03-29 13:08:43</td>\n",
       "      <td>2.72</td>\n",
       "      <td>0.10</td>\n",
       "    </tr>\n",
       "    <tr>\n",
       "      <th>28</th>\n",
       "      <td>ה-iPhone של אורן</td>\n",
       "      <td>2022-03-28 09:45:00</td>\n",
       "      <td>2022-03-28 10:13:02</td>\n",
       "      <td>0.47</td>\n",
       "      <td>0.02</td>\n",
       "    </tr>\n",
       "  </tbody>\n",
       "</table>\n",
       "</div>"
      ],
      "text/plain": [
       "                            SSID         minScanTime         maxScanTime  \\\n",
       "0                              ל 2022-03-29 12:05:44 2022-03-29 12:09:10   \n",
       "1                         459-02 2022-03-28 14:52:45 2022-03-29 14:47:03   \n",
       "2                  AndroidAP48FC 2022-03-29 11:35:43 2022-03-29 11:35:43   \n",
       "3                          Aseel 2022-03-28 10:37:41 2022-03-28 13:23:38   \n",
       "4             BenarriMay’s phone 2022-03-29 11:20:41 2022-03-29 11:24:10   \n",
       "5                          Bonie 2022-03-28 14:17:50 2022-03-29 14:47:03   \n",
       "6                            CIS 2022-03-29 12:35:23 2022-03-29 13:02:18   \n",
       "7                        COFFEES 2022-03-28 09:46:03 2022-03-28 09:47:59   \n",
       "8                            CRL 2022-03-29 12:32:23 2022-03-29 13:08:43   \n",
       "9                     CRL_ROBOTS 2022-03-29 13:05:43 2022-03-29 13:05:43   \n",
       "10                      CS_GUEST 2022-03-29 10:25:45 2022-03-29 13:08:43   \n",
       "11                       CS_WIFI 2022-03-29 10:25:45 2022-03-29 13:08:43   \n",
       "12                 CS_conference 2022-03-29 10:25:45 2022-03-29 13:08:43   \n",
       "13  DIRECT-99-HP PageWide P55250 2022-03-28 09:45:00 2022-03-28 12:20:37   \n",
       "14  DIRECT-gBDESKTOP-RQ05JV4ms7F 2022-03-28 11:41:37 2022-03-28 12:26:38   \n",
       "15                 HOTBOX 4-62D8 2022-03-28 14:17:50 2022-03-29 14:47:03   \n",
       "16                      OPPO A52 2022-03-28 13:26:38 2022-03-28 13:26:38   \n",
       "17                       POCO F3 2022-03-29 13:28:11 2022-03-29 13:28:11   \n",
       "18                 Redmi Note 9S 2022-03-28 12:59:38 2022-03-28 12:59:38   \n",
       "19                    RotemPhone 2022-03-28 12:29:38 2022-03-28 12:59:38   \n",
       "20                    TechPublic 2022-03-28 09:45:00 2022-03-29 13:28:11   \n",
       "21                       TechSec 2022-03-28 09:45:00 2022-03-29 13:28:11   \n",
       "22                     WIFI_SSDL 2022-03-29 10:54:10 2022-03-29 13:02:42   \n",
       "23                       eduroam 2022-03-28 09:45:00 2022-03-29 13:28:11   \n",
       "24                      lib-test 2022-03-29 10:25:45 2022-03-29 13:08:43   \n",
       "25                         nahum 2022-03-29 13:28:11 2022-03-29 13:28:11   \n",
       "26                     sonos_gar 2022-03-29 10:31:44 2022-03-29 13:08:43   \n",
       "27                 students_WIFI 2022-03-29 10:25:45 2022-03-29 13:08:43   \n",
       "28              ה-iPhone של אורן 2022-03-28 09:45:00 2022-03-28 10:13:02   \n",
       "\n",
       "    SSID Lifetime  Lifetime %  \n",
       "0            0.06        0.00  \n",
       "1           23.91        0.86  \n",
       "2            0.00        0.00  \n",
       "3            2.77        0.10  \n",
       "4            0.06        0.00  \n",
       "5           24.49        0.88  \n",
       "6            0.45        0.02  \n",
       "7            0.03        0.00  \n",
       "8            0.61        0.02  \n",
       "9            0.00        0.00  \n",
       "10           2.72        0.10  \n",
       "11           2.72        0.10  \n",
       "12           2.72        0.10  \n",
       "13           2.59        0.09  \n",
       "14           0.75        0.03  \n",
       "15          24.49        0.88  \n",
       "16           0.00        0.00  \n",
       "17           0.00        0.00  \n",
       "18           0.00        0.00  \n",
       "19           0.50        0.02  \n",
       "20          27.72        1.00  \n",
       "21          27.72        1.00  \n",
       "22           2.14        0.08  \n",
       "23          27.72        1.00  \n",
       "24           2.72        0.10  \n",
       "25           0.00        0.00  \n",
       "26           2.62        0.09  \n",
       "27           2.72        0.10  \n",
       "28           0.47        0.02  "
      ]
     },
     "execution_count": 293,
     "metadata": {},
     "output_type": "execute_result"
    }
   ],
   "source": [
    "ScanTimes2['Lifetime %'] = ScanTimes2.apply(lambda row: lifetimeNorm(row), axis=1)\n",
    "ScanTimes2.head(30)"
   ]
  },
  {
   "cell_type": "code",
   "execution_count": 294,
   "id": "b960a72e",
   "metadata": {},
   "outputs": [
    {
     "data": {
      "text/plain": [
       "0.00    9\n",
       "0.02    4\n",
       "0.03    1\n",
       "0.08    1\n",
       "0.09    2\n",
       "0.10    6\n",
       "0.86    1\n",
       "0.88    2\n",
       "1.00    3\n",
       "Name: Lifetime %, dtype: int64"
      ]
     },
     "execution_count": 294,
     "metadata": {},
     "output_type": "execute_result"
    }
   ],
   "source": [
    "ScanTimes2['Lifetime %'].value_counts().sort_index(ascending=True)"
   ]
  },
  {
   "cell_type": "code",
   "execution_count": 295,
   "id": "8a0bfb6c",
   "metadata": {},
   "outputs": [
    {
     "data": {
      "text/html": [
       "<div>\n",
       "<style scoped>\n",
       "    .dataframe tbody tr th:only-of-type {\n",
       "        vertical-align: middle;\n",
       "    }\n",
       "\n",
       "    .dataframe tbody tr th {\n",
       "        vertical-align: top;\n",
       "    }\n",
       "\n",
       "    .dataframe thead th {\n",
       "        text-align: right;\n",
       "    }\n",
       "</style>\n",
       "<table border=\"1\" class=\"dataframe\">\n",
       "  <thead>\n",
       "    <tr style=\"text-align: right;\">\n",
       "      <th></th>\n",
       "      <th>SSID</th>\n",
       "      <th>minScanTime</th>\n",
       "      <th>maxScanTime</th>\n",
       "      <th>SSID Lifetime</th>\n",
       "      <th>Lifetime %</th>\n",
       "      <th>Stations Count</th>\n",
       "    </tr>\n",
       "  </thead>\n",
       "  <tbody>\n",
       "    <tr>\n",
       "      <th>0</th>\n",
       "      <td>ל</td>\n",
       "      <td>2022-03-29 12:05:44</td>\n",
       "      <td>2022-03-29 12:09:10</td>\n",
       "      <td>0.06</td>\n",
       "      <td>0.00</td>\n",
       "      <td>1</td>\n",
       "    </tr>\n",
       "    <tr>\n",
       "      <th>1</th>\n",
       "      <td>459-02</td>\n",
       "      <td>2022-03-28 14:52:45</td>\n",
       "      <td>2022-03-29 14:47:03</td>\n",
       "      <td>23.91</td>\n",
       "      <td>0.86</td>\n",
       "      <td>2</td>\n",
       "    </tr>\n",
       "    <tr>\n",
       "      <th>2</th>\n",
       "      <td>AndroidAP48FC</td>\n",
       "      <td>2022-03-29 11:35:43</td>\n",
       "      <td>2022-03-29 11:35:43</td>\n",
       "      <td>0.00</td>\n",
       "      <td>0.00</td>\n",
       "      <td>1</td>\n",
       "    </tr>\n",
       "    <tr>\n",
       "      <th>3</th>\n",
       "      <td>Aseel</td>\n",
       "      <td>2022-03-28 10:37:41</td>\n",
       "      <td>2022-03-28 13:23:38</td>\n",
       "      <td>2.77</td>\n",
       "      <td>0.10</td>\n",
       "      <td>1</td>\n",
       "    </tr>\n",
       "    <tr>\n",
       "      <th>4</th>\n",
       "      <td>BenarriMay’s phone</td>\n",
       "      <td>2022-03-29 11:20:41</td>\n",
       "      <td>2022-03-29 11:24:10</td>\n",
       "      <td>0.06</td>\n",
       "      <td>0.00</td>\n",
       "      <td>1</td>\n",
       "    </tr>\n",
       "  </tbody>\n",
       "</table>\n",
       "</div>"
      ],
      "text/plain": [
       "                 SSID         minScanTime         maxScanTime  SSID Lifetime  \\\n",
       "0                   ל 2022-03-29 12:05:44 2022-03-29 12:09:10           0.06   \n",
       "1              459-02 2022-03-28 14:52:45 2022-03-29 14:47:03          23.91   \n",
       "2       AndroidAP48FC 2022-03-29 11:35:43 2022-03-29 11:35:43           0.00   \n",
       "3               Aseel 2022-03-28 10:37:41 2022-03-28 13:23:38           2.77   \n",
       "4  BenarriMay’s phone 2022-03-29 11:20:41 2022-03-29 11:24:10           0.06   \n",
       "\n",
       "   Lifetime %  Stations Count  \n",
       "0        0.00               1  \n",
       "1        0.86               2  \n",
       "2        0.00               1  \n",
       "3        0.10               1  \n",
       "4        0.00               1  "
      ]
     },
     "execution_count": 295,
     "metadata": {},
     "output_type": "execute_result"
    }
   ],
   "source": [
    "scanT_stationC = ScanTimes2.merge(StationsPerNetwork, on= 'SSID')\n",
    "scanT_stationC.head()"
   ]
  },
  {
   "cell_type": "code",
   "execution_count": 296,
   "id": "1b1ad0d2",
   "metadata": {},
   "outputs": [
    {
     "data": {
      "image/png": "[encoded data removed]",
      "text/plain": [
       "<Figure size 1440x720 with 1 Axes>"
      ]
     },
     "metadata": {
      "needs_background": "light"
     },
     "output_type": "display_data"
    }
   ],
   "source": [
    "# Reorder the dataframe\n",
    "ScanTimes2 = ScanTimes2.sort_values(by=['Lifetime %'])\n",
    "\n",
    "# initialize the figure\n",
    "plt.figure(figsize=(20,10))\n",
    "ax = plt.subplot(111, polar=True)\n",
    "plt.axis('off')\n",
    "\n",
    "# Constants = parameters controling the plot layout:\n",
    "upperLimit = 100\n",
    "lowerLimit = 30\n",
    "labelPadding = 4\n",
    "\n",
    "# Compute max and min in the dataset\n",
    "max = ScanTimes2[\"Lifetime %\"].max()\n",
    "\n",
    "# Let's compute heights: they are a conversion of each item value in those new coordinates\n",
    "# In our example, 0 in the dataset will be converted to the lowerLimit (10)\n",
    "# The maximum will be converted to the upperLimit (100)\n",
    "slope = (upperLimit - lowerLimit) / max\n",
    "heights = slope * ScanTimes2[\"Lifetime %\"] + lowerLimit\n",
    "\n",
    "# Compute the width of each bar. In total we have 2*Pi = 360°\n",
    "width = 2*np.pi / len(ScanTimes2.index)\n",
    "\n",
    "# Compute the angle each bar is centered on:\n",
    "indexes = list(range(1, len(ScanTimes2.index)+1))\n",
    "angles = [element * width for element in indexes]\n",
    "angles\n",
    "\n",
    "# Draw bars\n",
    "bars = ax.bar(\n",
    "    x=angles, \n",
    "    height=heights, \n",
    "    width=width, \n",
    "    bottom=lowerLimit,\n",
    "    linewidth=2, \n",
    "    edgecolor=\"white\",\n",
    "    color=\"#61a4b2\",\n",
    ")\n",
    "\n",
    "# Add labels\n",
    "for bar, angle, height, label in zip(bars,angles, heights, ScanTimes2[\"SSID\"]):\n",
    "\n",
    "    # Labels are rotated. Rotation must be specified in degrees :(\n",
    "    rotation = np.rad2deg(angle)\n",
    "\n",
    "    # Flip some labels upside down\n",
    "    alignment = \"\"\n",
    "    if angle >= np.pi/2 and angle < 3*np.pi/2:\n",
    "        alignment = \"right\"\n",
    "        rotation = rotation + 180\n",
    "    else: \n",
    "        alignment = \"left\"\n",
    "\n",
    "    # Finally add the labels\n",
    "    ax.text(\n",
    "        x=angle, \n",
    "        y=lowerLimit + bar.get_height() + labelPadding, \n",
    "        s=label, \n",
    "        ha=alignment, \n",
    "        va='center', \n",
    "        rotation=rotation, \n",
    "        rotation_mode=\"anchor\")"
   ]
  },
  {
   "cell_type": "code",
   "execution_count": 297,
   "id": "8e6b6f67",
   "metadata": {},
   "outputs": [],
   "source": [
    "def vendor(r):\n",
    "    try:\n",
    "        return MacLookup().lookup(r['BSSID'])\n",
    "    except:\n",
    "        return np.nan\n",
    "    \n",
    "def enterprise(r):\n",
    "    if pd.isna(r['Vendor']):\n",
    "        return False\n",
    "    return 'Enterprise' in r['Vendor']"
   ]
  },
  {
   "cell_type": "code",
   "execution_count": 298,
   "id": "d0cdd001",
   "metadata": {},
   "outputs": [],
   "source": [
    "df['Vendor'] = df.apply(lambda row: vendor(row), axis=1)"
   ]
  },
  {
   "cell_type": "code",
   "execution_count": 299,
   "id": "b0ee59c1",
   "metadata": {},
   "outputs": [
    {
     "data": {
      "text/html": [
       "<div>\n",
       "<style scoped>\n",
       "    .dataframe tbody tr th:only-of-type {\n",
       "        vertical-align: middle;\n",
       "    }\n",
       "\n",
       "    .dataframe tbody tr th {\n",
       "        vertical-align: top;\n",
       "    }\n",
       "\n",
       "    .dataframe thead th {\n",
       "        text-align: right;\n",
       "    }\n",
       "</style>\n",
       "<table border=\"1\" class=\"dataframe\">\n",
       "  <thead>\n",
       "    <tr style=\"text-align: right;\">\n",
       "      <th></th>\n",
       "      <th>SSID</th>\n",
       "      <th>Capabilities</th>\n",
       "      <th>BSSID</th>\n",
       "      <th>Open</th>\n",
       "      <th>WPA2 Only</th>\n",
       "      <th>WPA</th>\n",
       "      <th>Security Level</th>\n",
       "      <th>Security Amount</th>\n",
       "      <th>BSSID Presence Density</th>\n",
       "      <th>Scan Time</th>\n",
       "      <th>Lifetime</th>\n",
       "      <th>Vendor</th>\n",
       "    </tr>\n",
       "  </thead>\n",
       "  <tbody>\n",
       "    <tr>\n",
       "      <th>0</th>\n",
       "      <td>NaN</td>\n",
       "      <td>[WPA2-PSK-CCMP][RSN-PSK-CCMP][ESS]</td>\n",
       "      <td>14:ae:db:b1:7b:c5</td>\n",
       "      <td>False</td>\n",
       "      <td>True</td>\n",
       "      <td>False</td>\n",
       "      <td>3</td>\n",
       "      <td>2</td>\n",
       "      <td>occasional</td>\n",
       "      <td>2022-03-28 09:52:40</td>\n",
       "      <td>3.69</td>\n",
       "      <td>VTech Telecommunications Ltd.</td>\n",
       "    </tr>\n",
       "    <tr>\n",
       "      <th>1</th>\n",
       "      <td>TechPublic</td>\n",
       "      <td>[ESS]</td>\n",
       "      <td>cc:d0:83:98:a6:40</td>\n",
       "      <td>True</td>\n",
       "      <td>False</td>\n",
       "      <td>False</td>\n",
       "      <td>0</td>\n",
       "      <td>0</td>\n",
       "      <td>persistent</td>\n",
       "      <td>2022-03-28 09:52:40</td>\n",
       "      <td>3.69</td>\n",
       "      <td>Aruba, a Hewlett Packard Enterprise Company</td>\n",
       "    </tr>\n",
       "  </tbody>\n",
       "</table>\n",
       "</div>"
      ],
      "text/plain": [
       "         SSID                        Capabilities              BSSID   Open  \\\n",
       "0         NaN  [WPA2-PSK-CCMP][RSN-PSK-CCMP][ESS]  14:ae:db:b1:7b:c5  False   \n",
       "1  TechPublic                               [ESS]  cc:d0:83:98:a6:40   True   \n",
       "\n",
       "   WPA2 Only    WPA  Security Level  Security Amount BSSID Presence Density  \\\n",
       "0       True  False               3                2             occasional   \n",
       "1      False  False               0                0             persistent   \n",
       "\n",
       "            Scan Time  Lifetime                                       Vendor  \n",
       "0 2022-03-28 09:52:40      3.69                VTech Telecommunications Ltd.  \n",
       "1 2022-03-28 09:52:40      3.69  Aruba, a Hewlett Packard Enterprise Company  "
      ]
     },
     "execution_count": 299,
     "metadata": {},
     "output_type": "execute_result"
    }
   ],
   "source": [
    "df.head(2)"
   ]
  },
  {
   "cell_type": "code",
   "execution_count": 300,
   "id": "21c2f56f",
   "metadata": {},
   "outputs": [
    {
     "data": {
      "text/plain": [
       "Hewlett Packard Enterprise                     158\n",
       "Aruba, a Hewlett Packard Enterprise Company     19\n",
       "NaN                                             12\n",
       "Sagemcom Broadband SAS                           3\n",
       "Nortel Networks                                  3\n",
       "VTech Telecommunications Ltd.                    2\n",
       "TP-LINK TECHNOLOGIES CO.,LTD.                    2\n",
       "D-Link International                             1\n",
       "Name: Vendor, dtype: int64"
      ]
     },
     "execution_count": 300,
     "metadata": {},
     "output_type": "execute_result"
    }
   ],
   "source": [
    "# How many devices belong to each vendor? \n",
    "df1 = df.drop_duplicates(subset=[\"BSSID\", \"Vendor\"])\n",
    "df1['Vendor'].value_counts(dropna=False)"
   ]
  },
  {
   "cell_type": "code",
   "execution_count": 301,
   "id": "8a42b8eb",
   "metadata": {},
   "outputs": [
    {
     "data": {
      "image/png": "[encoded data removed]",
      "text/plain": [
       "<Figure size 432x288 with 1 Axes>"
      ]
     },
     "metadata": {
      "needs_background": "light"
     },
     "output_type": "display_data"
    }
   ],
   "source": [
    "df1.Vendor.value_counts().plot(kind = 'barh')\n",
    "plt.xticks(np.arange(0, df1['Vendor'].value_counts().max()+10,10))\n",
    "plt.ylabel('Vendor')\n",
    "plt.xlabel('Amount of devices')\n",
    "plt.title(\"Number of uniqe devices (BSSID) from each observed vendor\", y=1.1)\n",
    "plt.show() "
   ]
  },
  {
   "cell_type": "code",
   "execution_count": 302,
   "id": "30222889",
   "metadata": {},
   "outputs": [],
   "source": [
    "df['Enterprise'] = df.apply(lambda row: enterprise(row), axis=1)"
   ]
  },
  {
   "cell_type": "code",
   "execution_count": 303,
   "id": "12a34f31",
   "metadata": {},
   "outputs": [
    {
     "data": {
      "text/html": [
       "<div>\n",
       "<style scoped>\n",
       "    .dataframe tbody tr th:only-of-type {\n",
       "        vertical-align: middle;\n",
       "    }\n",
       "\n",
       "    .dataframe tbody tr th {\n",
       "        vertical-align: top;\n",
       "    }\n",
       "\n",
       "    .dataframe thead th {\n",
       "        text-align: right;\n",
       "    }\n",
       "</style>\n",
       "<table border=\"1\" class=\"dataframe\">\n",
       "  <thead>\n",
       "    <tr style=\"text-align: right;\">\n",
       "      <th></th>\n",
       "      <th>SSID</th>\n",
       "      <th>Capabilities</th>\n",
       "      <th>BSSID</th>\n",
       "      <th>Open</th>\n",
       "      <th>WPA2 Only</th>\n",
       "      <th>WPA</th>\n",
       "      <th>Security Level</th>\n",
       "      <th>Security Amount</th>\n",
       "      <th>BSSID Presence Density</th>\n",
       "      <th>Scan Time</th>\n",
       "      <th>Lifetime</th>\n",
       "      <th>Vendor</th>\n",
       "      <th>Enterprise</th>\n",
       "    </tr>\n",
       "  </thead>\n",
       "  <tbody>\n",
       "    <tr>\n",
       "      <th>0</th>\n",
       "      <td>NaN</td>\n",
       "      <td>[WPA2-PSK-CCMP][RSN-PSK-CCMP][ESS]</td>\n",
       "      <td>14:ae:db:b1:7b:c5</td>\n",
       "      <td>False</td>\n",
       "      <td>True</td>\n",
       "      <td>False</td>\n",
       "      <td>3</td>\n",
       "      <td>2</td>\n",
       "      <td>occasional</td>\n",
       "      <td>2022-03-28 09:52:40</td>\n",
       "      <td>3.69</td>\n",
       "      <td>VTech Telecommunications Ltd.</td>\n",
       "      <td>False</td>\n",
       "    </tr>\n",
       "    <tr>\n",
       "      <th>1</th>\n",
       "      <td>TechPublic</td>\n",
       "      <td>[ESS]</td>\n",
       "      <td>cc:d0:83:98:a6:40</td>\n",
       "      <td>True</td>\n",
       "      <td>False</td>\n",
       "      <td>False</td>\n",
       "      <td>0</td>\n",
       "      <td>0</td>\n",
       "      <td>persistent</td>\n",
       "      <td>2022-03-28 09:52:40</td>\n",
       "      <td>3.69</td>\n",
       "      <td>Aruba, a Hewlett Packard Enterprise Company</td>\n",
       "      <td>True</td>\n",
       "    </tr>\n",
       "  </tbody>\n",
       "</table>\n",
       "</div>"
      ],
      "text/plain": [
       "         SSID                        Capabilities              BSSID   Open  \\\n",
       "0         NaN  [WPA2-PSK-CCMP][RSN-PSK-CCMP][ESS]  14:ae:db:b1:7b:c5  False   \n",
       "1  TechPublic                               [ESS]  cc:d0:83:98:a6:40   True   \n",
       "\n",
       "   WPA2 Only    WPA  Security Level  Security Amount BSSID Presence Density  \\\n",
       "0       True  False               3                2             occasional   \n",
       "1      False  False               0                0             persistent   \n",
       "\n",
       "            Scan Time  Lifetime                                       Vendor  \\\n",
       "0 2022-03-28 09:52:40      3.69                VTech Telecommunications Ltd.   \n",
       "1 2022-03-28 09:52:40      3.69  Aruba, a Hewlett Packard Enterprise Company   \n",
       "\n",
       "   Enterprise  \n",
       "0       False  \n",
       "1        True  "
      ]
     },
     "execution_count": 303,
     "metadata": {},
     "output_type": "execute_result"
    }
   ],
   "source": [
    "df.head(2)"
   ]
  },
  {
   "cell_type": "code",
   "execution_count": 304,
   "id": "be89b5fe",
   "metadata": {},
   "outputs": [
    {
     "data": {
      "text/plain": [
       "False     23\n",
       "True     177\n",
       "Name: Enterprise, dtype: int64"
      ]
     },
     "execution_count": 304,
     "metadata": {},
     "output_type": "execute_result"
    }
   ],
   "source": [
    "# How many devices (BSSID) are enterprise type? \n",
    "df1 = df.drop_duplicates(subset=[\"BSSID\", \"Enterprise\"])\n",
    "df1['Enterprise'].value_counts().sort_index()"
   ]
  },
  {
   "cell_type": "code",
   "execution_count": 305,
   "id": "814b924c",
   "metadata": {},
   "outputs": [
    {
     "data": {
      "text/plain": [
       "False    0.115\n",
       "True     0.885\n",
       "Name: Enterprise, dtype: float64"
      ]
     },
     "execution_count": 305,
     "metadata": {},
     "output_type": "execute_result"
    }
   ],
   "source": [
    "# How many devices (BSSID) are enterprise type? \n",
    "df1 = df.drop_duplicates(subset=[\"BSSID\", \"Enterprise\"])\n",
    "df1['Enterprise'].value_counts(normalize= True).sort_index()"
   ]
  },
  {
   "cell_type": "code",
   "execution_count": 307,
   "id": "cc651b8b",
   "metadata": {},
   "outputs": [
    {
     "data": {
      "image/png": "[encoded data removed]",
      "text/plain": [
       "<Figure size 432x288 with 1 Axes>"
      ]
     },
     "metadata": {},
     "output_type": "display_data"
    }
   ],
   "source": [
    "y = df1['Enterprise'].value_counts().sort_index()\n",
    "labels = [\"Personal\",\"Enterprise\"]\n",
    "plt.pie(y,labels= labels, labeldistance= 1.2)\n",
    "plt.title(\"Distribution of nearby devices according to their management mode\", y=1.1)\n",
    "plt.tight_layout()\n",
    "plt.show()"
   ]
  },
  {
   "cell_type": "code",
   "execution_count": 308,
   "id": "8e8fffe1",
   "metadata": {},
   "outputs": [],
   "source": [
    "# wigle_cache = {}"
   ]
  },
  {
   "cell_type": "code",
   "execution_count": 309,
   "id": "2cd06056",
   "metadata": {},
   "outputs": [],
   "source": [
    "# wigle_cache"
   ]
  },
  {
   "cell_type": "code",
   "execution_count": 310,
   "id": "d63586ac",
   "metadata": {},
   "outputs": [],
   "source": [
    "# def wigle(r):\n",
    "#     if r.BSSID in wigle_cache:\n",
    "#         return wigle_cache[r.BSSID]\n",
    "#     try:\n",
    "#         wigleSearch.detail(netid=r.BSSID)\n",
    "#         wigle_cache[r.BSSID] = True\n",
    "#         return True\n",
    "#     except Exception as e:\n",
    "#         if e.args[0][0:3] == '429':\n",
    "#             return np.nan\n",
    "#         wigle_cache[r.BSSID] = False\n",
    "#         return False    "
   ]
  },
  {
   "cell_type": "code",
   "execution_count": 311,
   "id": "8d3018a3",
   "metadata": {},
   "outputs": [],
   "source": [
    "# df['Found on WiGLE'] = df.apply(lambda row: wigle(row), axis=1)"
   ]
  },
  {
   "cell_type": "code",
   "execution_count": 312,
   "id": "4d77bb48",
   "metadata": {},
   "outputs": [],
   "source": [
    "# df['Found on WiGLE'].value_counts()"
   ]
  },
  {
   "cell_type": "code",
   "execution_count": 313,
   "id": "2a4b8992",
   "metadata": {},
   "outputs": [],
   "source": [
    "# def BSSIDwigle(BSSID):\n",
    "#     if BSSID in wigle_cache:\n",
    "#         return wigle_cache[BSSID]\n",
    "#     try:\n",
    "#         wigleSearch.detail(netid=BSSID)\n",
    "#         wigle_cache[BSSID] = True\n",
    "#         return True\n",
    "#     except Exception as e:\n",
    "#         print(e)"
   ]
  },
  {
   "cell_type": "code",
   "execution_count": 314,
   "id": "2227ca5c",
   "metadata": {},
   "outputs": [],
   "source": [
    "# BSSIDwigle(\"14:ae:db:b1:7b:c5\")"
   ]
  },
  {
   "cell_type": "code",
   "execution_count": 315,
   "id": "4e8bc7a6",
   "metadata": {},
   "outputs": [],
   "source": [
    "# try:\n",
    "#     wigleSearch.detail(netid=\"48:4a:e9:18:ab:02\")\n",
    "#     print(True)\n",
    "# except Exception as e:\n",
    "#     print(e)"
   ]
  },
  {
   "cell_type": "code",
   "execution_count": 317,
   "id": "7fb57cf7",
   "metadata": {},
   "outputs": [
    {
     "data": {
      "text/html": [
       "<div>\n",
       "<style scoped>\n",
       "    .dataframe tbody tr th:only-of-type {\n",
       "        vertical-align: middle;\n",
       "    }\n",
       "\n",
       "    .dataframe tbody tr th {\n",
       "        vertical-align: top;\n",
       "    }\n",
       "\n",
       "    .dataframe thead th {\n",
       "        text-align: right;\n",
       "    }\n",
       "</style>\n",
       "<table border=\"1\" class=\"dataframe\">\n",
       "  <thead>\n",
       "    <tr style=\"text-align: right;\">\n",
       "      <th></th>\n",
       "      <th>SSID</th>\n",
       "      <th>Capabilities</th>\n",
       "      <th>BSSID</th>\n",
       "      <th>Open</th>\n",
       "      <th>WPA2 Only</th>\n",
       "      <th>WPA</th>\n",
       "      <th>Security Level</th>\n",
       "      <th>Security Amount</th>\n",
       "      <th>BSSID Presence Density</th>\n",
       "      <th>Scan Time</th>\n",
       "      <th>Lifetime</th>\n",
       "      <th>Vendor</th>\n",
       "      <th>Enterprise</th>\n",
       "    </tr>\n",
       "  </thead>\n",
       "  <tbody>\n",
       "    <tr>\n",
       "      <th>0</th>\n",
       "      <td>NaN</td>\n",
       "      <td>[WPA2-PSK-CCMP][RSN-PSK-CCMP][ESS]</td>\n",
       "      <td>14:ae:db:b1:7b:c5</td>\n",
       "      <td>False</td>\n",
       "      <td>True</td>\n",
       "      <td>False</td>\n",
       "      <td>3</td>\n",
       "      <td>2</td>\n",
       "      <td>occasional</td>\n",
       "      <td>2022-03-28 09:52:40</td>\n",
       "      <td>3.69</td>\n",
       "      <td>VTech Telecommunications Ltd.</td>\n",
       "      <td>False</td>\n",
       "    </tr>\n",
       "  </tbody>\n",
       "</table>\n",
       "</div>"
      ],
      "text/plain": [
       "  SSID                        Capabilities              BSSID   Open  \\\n",
       "0  NaN  [WPA2-PSK-CCMP][RSN-PSK-CCMP][ESS]  14:ae:db:b1:7b:c5  False   \n",
       "\n",
       "   WPA2 Only    WPA  Security Level  Security Amount BSSID Presence Density  \\\n",
       "0       True  False               3                2             occasional   \n",
       "\n",
       "            Scan Time  Lifetime                         Vendor  Enterprise  \n",
       "0 2022-03-28 09:52:40      3.69  VTech Telecommunications Ltd.       False  "
      ]
     },
     "execution_count": 317,
     "metadata": {},
     "output_type": "execute_result"
    }
   ],
   "source": [
    "df.head(1)"
   ]
  },
  {
   "cell_type": "code",
   "execution_count": 320,
   "id": "cbb162b1",
   "metadata": {},
   "outputs": [],
   "source": [
    "sec_amount_weight, sec_level_weight = 2/5, 3/5\n",
    "Max_Sec_Amount = df['Security Amount'].max()\n",
    "assert(Max_Sec_Amount != 0)\n",
    "Max_Sec_Level = 3\n",
    "max_LifetimeBSSID = df[\"Lifetime\"].max()\n",
    "min_LifetimeBSSID = df[\"Lifetime\"].min()\n",
    "max_StationsNumber = StationsPerNetwork[\"Stations Count\"].max()\n",
    "min_StationsNumber = StationsPerNetwork[\"Stations Count\"].min()\n",
    "\n",
    "w1,w2,w3,w4,w5 = 0.175, 0.175, 0.35, 0.2, 0.1\n",
    "\n",
    "def RiskAssessment():\n",
    "    # SSID Presence Grade\n",
    "    rareRateSSID = appearances2['SSID Presence Density'].value_counts(normalize= True)['rare']\n",
    "    SSID_Presence_Grade = 1 - rareRateSSID\n",
    "    print(\"SSID_Presence_Grade = {}\".format(SSID_Presence_Grade))\n",
    "    \n",
    "    # BSSID Presence Grade\n",
    "    df1 = df.drop_duplicates(subset=[\"BSSID\", \"BSSID Presence Density\"])\n",
    "    rareRateBSSID = df1['BSSID Presence Density'].value_counts(normalize= True)['rare']\n",
    "    BSSID_Presence_Grade = 1 - rareRateBSSID\n",
    "    print(\"BSSID_Presence_Grade = {}\".format(BSSID_Presence_Grade))\n",
    "    \n",
    "    # Weighted AVG BSSID Grade\n",
    "    Weighted_AVG_BSSID_Grade = 0\n",
    "    df1 = df.drop_duplicates(subset=[\"BSSID\"])\n",
    "    for index, row in df1.iterrows():\n",
    "        BSSID_Grade = sec_amount_weight * (row['Security Amount']/Max_Sec_Amount) + sec_level_weight * (row['Security Level']/Max_Sec_Level)\n",
    "        Weighted_AVG_BSSID_Grade += BSSID_Grade * row['Lifetime']/df1[\"Lifetime\"].sum()\n",
    "    print(\"Weighted_AVG_BSSID_Grade = {}\".format(Weighted_AVG_BSSID_Grade))\n",
    "    \n",
    "    # Vendors Grade\n",
    "    df1 = df.drop_duplicates(subset=[\"BSSID\"])\n",
    "    Vendors_Grade = df1['Enterprise'].value_counts(normalize= True).sort_index()[True]\n",
    "    print(\"Vendors_Grade = {}\".format(Vendors_Grade))\n",
    "\n",
    "    # Weighted AVG Stations Grade\n",
    "    Weighted_AVG_Stations_Grade = 0\n",
    "    for index, row in scanT_stationC.drop_duplicates(subset=[\"SSID\"]).iterrows():\n",
    "        Stations_Grade = 1 - ((row[\"Stations Count\"])/max_StationsNumber)\n",
    "        Weighted_AVG_Stations_Grade += Stations_Grade * row[\"Lifetime %\"]/scanT_stationC[\"Lifetime %\"].sum()\n",
    "    print(\"Weighted_AVG_Stations_Grade = {}\".format(Weighted_AVG_Stations_Grade))\n",
    "    \n",
    "    SecurityValue = w1*SSID_Presence_Grade+ w2*BSSID_Presence_Grade+ w3*Weighted_AVG_BSSID_Grade+ w4*Vendors_Grade+ w5*Weighted_AVG_Stations_Grade\n",
    "    print()\n",
    "    print(\"Security Assessment = {:.2%}\".format(SecurityValue))\n"
   ]
  },
  {
   "cell_type": "code",
   "execution_count": 321,
   "id": "c43be5fc",
   "metadata": {},
   "outputs": [
    {
     "name": "stdout",
     "output_type": "stream",
     "text": [
      "SSID_Presence_Grade = 0.27586206896551724\n",
      "BSSID_Presence_Grade = 0.16000000000000003\n",
      "Weighted_AVG_BSSID_Grade = 0.6065870893049631\n",
      "Vendors_Grade = 0.885\n",
      "Weighted_AVG_Stations_Grade = 0.5050942987210059\n",
      "\n",
      "Security Assessment = 51.61%\n"
     ]
    }
   ],
   "source": [
    "RiskAssessment()"
   ]
  },
  {
   "cell_type": "code",
   "execution_count": null,
   "id": "b7c62a1b",
   "metadata": {},
   "outputs": [],
   "source": []
  }
 ],
 "metadata": {
  "kernelspec": {
   "display_name": "Python 3 (ipykernel)",
   "language": "python",
   "name": "python3"
  },
  "language_info": {
   "codemirror_mode": {
    "name": "ipython",
    "version": 3
   },
   "file_extension": ".py",
   "mimetype": "text/x-python",
   "name": "python",
   "nbconvert_exporter": "python",
   "pygments_lexer": "ipython3",
   "version": "3.9.7"
  }
 },
 "nbformat": 4,
 "nbformat_minor": 5
}
